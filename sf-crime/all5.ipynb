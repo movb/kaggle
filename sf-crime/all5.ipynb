{
 "cells": [
  {
   "cell_type": "markdown",
   "metadata": {},
   "source": [
    "# Соревнование: San Francisco Crime Classification\n",
    "\n",
    "_Given time and location, you must predict the category of crime that occurred. Kaggle is hosting this competition for the machine learning community to use for fun and practice._\n",
    "\n",
    "https://www.kaggle.com/c/sf-crime"
   ]
  },
  {
   "cell_type": "markdown",
   "metadata": {},
   "source": [
    "##  Подготовка работы. Загрузка библиотек и настройка отображения\n",
    "Импорты и настроийки, которые необходимы для шаблона."
   ]
  },
  {
   "cell_type": "code",
   "execution_count": 1,
   "metadata": {
    "collapsed": false
   },
   "outputs": [],
   "source": [
    "import pandas as pd\n",
    "import numpy as np\n",
    "import matplotlib.pyplot as plt\n",
    "import time\n",
    "import datetime\n",
    "\n",
    "%matplotlib inline"
   ]
  },
  {
   "cell_type": "markdown",
   "metadata": {},
   "source": [
    "## Загрузка, очистка данных."
   ]
  },
  {
   "cell_type": "markdown",
   "metadata": {},
   "source": [
    "Загрузка тренировочных данных из csv:"
   ]
  },
  {
   "cell_type": "code",
   "execution_count": 2,
   "metadata": {
    "collapsed": false
   },
   "outputs": [],
   "source": [
    "train_data = pd.read_csv('data/train.csv')\n",
    "test_data = pd.read_csv('data/test.csv', index_col='Id')"
   ]
  },
  {
   "cell_type": "code",
   "execution_count": 3,
   "metadata": {
    "collapsed": false
   },
   "outputs": [],
   "source": [
    "feature_columns_to_use = ['Dates', 'DayOfWeek', 'PdDistrict', 'Address', 'X', 'Y']"
   ]
  },
  {
   "cell_type": "code",
   "execution_count": 4,
   "metadata": {
    "collapsed": false
   },
   "outputs": [],
   "source": [
    "data = train_data[feature_columns_to_use].append(test_data[feature_columns_to_use])"
   ]
  },
  {
   "cell_type": "code",
   "execution_count": 5,
   "metadata": {
    "collapsed": true
   },
   "outputs": [],
   "source": [
    "from collections import defaultdict\n",
    "from sklearn.decomposition import PCA\n",
    "\n",
    "def get_streets(street):\n",
    "    if street.find('/') != -1:\n",
    "        return map(str.strip, street.split('/'))\n",
    "    pos = street.find('Block of ')\n",
    "    if pos != -1:        \n",
    "        return [street[pos+9:]]    \n",
    "    return [street]\n",
    "\n",
    "def is_corner(addr):\n",
    "    streets = get_streets(addr)\n",
    "    if len(list(streets))>1:\n",
    "        return 1\n",
    "    return 0\n",
    "\n",
    "def addr_to_street(addr):\n",
    "    streets = get_streets(addr)\n",
    "    return '_'.join(streets)"
   ]
  },
  {
   "cell_type": "code",
   "execution_count": 6,
   "metadata": {
    "collapsed": false
   },
   "outputs": [],
   "source": [
    "data['Corner'] = data.Address.apply(is_corner)\n",
    "data['Street'] = data.Address.apply(addr_to_street)"
   ]
  },
  {
   "cell_type": "code",
   "execution_count": 7,
   "metadata": {
    "collapsed": false
   },
   "outputs": [],
   "source": [
    "nonnumeric_columns = ['DayOfWeek','PdDistrict','Address','Street']\n",
    "\n",
    "from sklearn.preprocessing import LabelEncoder\n",
    "\n",
    "le = LabelEncoder()\n",
    "for feature in nonnumeric_columns:\n",
    "    data[\"{}_Conv\".format(feature)] = le.fit_transform(data[feature])"
   ]
  },
  {
   "cell_type": "code",
   "execution_count": 8,
   "metadata": {
    "collapsed": true
   },
   "outputs": [],
   "source": [
    "cat_conv = LabelEncoder()\n",
    "train_data['Category'] = cat_conv.fit_transform(train_data['Category'])"
   ]
  },
  {
   "cell_type": "code",
   "execution_count": 9,
   "metadata": {
    "collapsed": false
   },
   "outputs": [],
   "source": [
    "def convert_time(data):\n",
    "    data['Min'] = data.Dates.apply(lambda x: x.minute)\n",
    "    data['Hour'] = data.Dates.apply(lambda x: x.hour)\n",
    "    data['Day'] = data.Dates.apply(lambda x: x.day)\n",
    "    data['Month'] = data.Dates.apply(lambda x: x.month)\n",
    "    data['Year'] = data.Dates.apply(lambda x: x.year)\n",
    "    data['WeekNumber'] = data.Dates.apply(lambda x: x.isocalendar()[1])\n",
    "    return data\n",
    "\n",
    "data.Dates = pd.to_datetime(data.Dates)\n",
    "data = convert_time(data)"
   ]
  },
  {
   "cell_type": "markdown",
   "metadata": {},
   "source": [
    "## Построение модели"
   ]
  },
  {
   "cell_type": "code",
   "execution_count": 10,
   "metadata": {
    "collapsed": false
   },
   "outputs": [],
   "source": [
    "def prepare_data(data, train_data, feature_columns, eval_week=10):\n",
    "    if eval_week:\n",
    "        train_X = data[feature_columns][0:train_data.shape[0]][data[0:train_data.shape[0]].WeekNumber % eval_week != 0].as_matrix()\n",
    "        eval_X = data[feature_columns][0:train_data.shape[0]][data[0:train_data.shape[0]].WeekNumber % eval_week == 0].as_matrix()\n",
    "        train_y = train_data[data[0:train_data.shape[0]].WeekNumber % eval_week != 0]['Category']\n",
    "        eval_y = train_data[data[0:train_data.shape[0]].WeekNumber % eval_week == 0]['Category']\n",
    "    else:\n",
    "        train_X = data[feature_columns][0:train_data.shape[0]].as_matrix()\n",
    "        train_y = train_data['Category']\n",
    "        eval_X = None\n",
    "        eval_y = None\n",
    "    \n",
    "    test_X = data[feature_columns][train_data.shape[0]::].as_matrix()\n",
    "    \n",
    "    return train_X, eval_X, test_X, train_y, eval_y"
   ]
  },
  {
   "cell_type": "code",
   "execution_count": 11,
   "metadata": {
    "collapsed": false
   },
   "outputs": [],
   "source": [
    "import xgboost as xgb\n",
    "\n",
    "def run_xgb(train_X, eval_X, test_X, train_y, eval_y,\n",
    "            max_depth=10, n_estimators=1000, learning_rate=0.05,\n",
    "            early_stopping_rounds=10, max_delta_step=1, seed=42):\n",
    "    \n",
    "    start_time = datetime.datetime.now()\n",
    "\n",
    "    gbm = xgb.XGBClassifier(max_depth=max_depth,\n",
    "                            n_estimators=n_estimators,\n",
    "                            learning_rate=learning_rate,\n",
    "                            nthread=4,\n",
    "                            seed=seed,\n",
    "                            max_delta_step=max_delta_step,\n",
    "                            silent=False)\n",
    "    \n",
    "    if eval_X and eval_Y:\n",
    "        gbm.fit(train_X, train_y,\n",
    "                eval_metric='mlogloss',\n",
    "                eval_set=[(eval_X, eval_y)],\n",
    "                early_stopping_rounds=early_stopping_rounds,\n",
    "                verbose=True\n",
    "               )\n",
    "    else:\n",
    "        gbm.fit(train_X, train_y,\n",
    "                eval_metric='mlogloss'\n",
    "               )\n",
    "\n",
    "    duration = (datetime.datetime.now() - start_time).total_seconds()\n",
    "    print('Time elapsed: {0}'.format(duration))\n",
    "    \n",
    "    return gbm"
   ]
  },
  {
   "cell_type": "code",
   "execution_count": 12,
   "metadata": {
    "collapsed": false
   },
   "outputs": [],
   "source": [
    "def get_predictions(model, test_X):\n",
    "    predictions = model.predict_proba(test_X)\n",
    "    return np.split(predictions, 2, axis=1)[1].T"
   ]
  },
  {
   "cell_type": "code",
   "execution_count": 13,
   "metadata": {
    "collapsed": false
   },
   "outputs": [],
   "source": [
    "def save_predicts(name, predictions, index, columns, float_format='%.6f'):\n",
    "    df = pd.DataFrame(predictions, index=index, columns=columns)\n",
    "    df.index.name = 'Id'\n",
    "    df.to_csv('./output/{}.csv.gz'.format(name), compression='gzip', float_format=float_format)"
   ]
  },
  {
   "cell_type": "code",
   "execution_count": 14,
   "metadata": {
    "collapsed": false
   },
   "outputs": [],
   "source": [
    "from sklearn.externals import joblib\n",
    "\n",
    "def save_model(name, model):    \n",
    "    out = joblib.dump(model, 'models/{}.pkl'.format(name)) "
   ]
  },
  {
   "cell_type": "code",
   "execution_count": 15,
   "metadata": {
    "collapsed": false
   },
   "outputs": [
    {
     "name": "stdout",
     "output_type": "stream",
     "text": [
      "Time elapsed: 13948.970161\n"
     ]
    }
   ],
   "source": [
    "feature_columns = ['Min', 'Hour', 'Day', 'Month', 'Year',\n",
    "                   'DayOfWeek_Conv', 'PdDistrict_Conv', 'Address_Conv', 'X', 'Y',\n",
    "                   'Corner', 'Street_Conv']\n",
    "\n",
    "train_X, eval_X, test_X, train_y, eval_y = prepare_data(data, train_data,\n",
    "                                                        feature_columns, eval_week=None)\n",
    "\n",
    "gbm = run_xgb(train_X, eval_X, test_X, train_y, eval_y, max_depth=10,\n",
    "               n_estimators=400, learning_rate=0.05, max_delta_step=1,\n",
    "               seed=15)\n",
    "\n",
    "predictions = get_predictions(gbm, test_X)\n",
    "save_predicts('xgb2_3',\n",
    "              predictions,\n",
    "              data[feature_columns][train_data.shape[0]::].index,\n",
    "              cat_conv.classes_)\n",
    "save_model('xgb2_3', gbm)"
   ]
  },
  {
   "cell_type": "code",
   "execution_count": 18,
   "metadata": {
    "collapsed": false
   },
   "outputs": [
    {
     "data": {
      "text/plain": [
       "<matplotlib.axes._subplots.AxesSubplot at 0x7fc7c04f74e0>"
      ]
     },
     "execution_count": 18,
     "metadata": {},
     "output_type": "execute_result"
    },
    {
     "data": {
      "image/png": "[encoded data removed]",
      "text/plain": [
       "<matplotlib.figure.Figure at 0x7fc7c0430588>"
      ]
     },
     "metadata": {},
     "output_type": "display_data"
    }
   ],
   "source": [
    "from xgboost import plot_importance\n",
    "plot_importance(gbm.booster())"
   ]
  },
  {
   "cell_type": "code",
   "execution_count": 19,
   "metadata": {
    "collapsed": false
   },
   "outputs": [
    {
     "name": "stdout",
     "output_type": "stream",
     "text": [
      "['f0 = Min', 'f1 = Hour', 'f2 = Day', 'f3 = Month', 'f4 = Year', 'f5 = DayOfWeek_Conv', 'f6 = PdDistrict_Conv', 'f7 = Address_Conv', 'f8 = X', 'f9 = Y', 'f10 = Corner', 'f11 = Street_Conv']\n"
     ]
    }
   ],
   "source": [
    "print([\"f{0} = {1}\".format(i, x) for i, x in enumerate(feature_columns)])"
   ]
  },
  {
   "cell_type": "code",
   "execution_count": 29,
   "metadata": {
    "collapsed": true
   },
   "outputs": [],
   "source": [
    "# 2.23720"
   ]
  }
 ],
 "metadata": {
  "kernelspec": {
   "display_name": "Python 3",
   "language": "python",
   "name": "python3"
  },
  "language_info": {
   "codemirror_mode": {
    "name": "ipython",
    "version": 3
   },
   "file_extension": ".py",
   "mimetype": "text/x-python",
   "name": "python",
   "nbconvert_exporter": "python",
   "pygments_lexer": "ipython3",
   "version": "3.5.1"
  }
 },
 "nbformat": 4,
 "nbformat_minor": 0
}
