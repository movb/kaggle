{
 "cells": [
  {
   "cell_type": "markdown",
   "metadata": {},
   "source": [
    "# Соревнование: San Francisco Crime Classification\n",
    "\n",
    "_Given time and location, you must predict the category of crime that occurred. Kaggle is hosting this competition for the machine learning community to use for fun and practice._\n",
    "\n",
    "https://www.kaggle.com/c/sf-crime"
   ]
  },
  {
   "cell_type": "markdown",
   "metadata": {},
   "source": [
    "##  Подготовка работы. Загрузка библиотек и настройка отображения\n",
    "Импорты и настроийки, которые необходимы для шаблона."
   ]
  },
  {
   "cell_type": "code",
   "execution_count": 2,
   "metadata": {
    "collapsed": false
   },
   "outputs": [],
   "source": [
    "import pandas as pd\n",
    "import numpy as np\n",
    "import matplotlib.pyplot as plt\n",
    "import time\n",
    "import datetime\n",
    "\n",
    "%matplotlib inline"
   ]
  },
  {
   "cell_type": "markdown",
   "metadata": {},
   "source": [
    "## Загрузка, очистка данных."
   ]
  },
  {
   "cell_type": "markdown",
   "metadata": {},
   "source": [
    "Загрузка тренировочных данных из csv:"
   ]
  },
  {
   "cell_type": "code",
   "execution_count": 3,
   "metadata": {
    "collapsed": false
   },
   "outputs": [],
   "source": [
    "train_data = pd.read_csv('data/train.csv')\n",
    "test_data = pd.read_csv('data/test.csv', index_col='Id')"
   ]
  },
  {
   "cell_type": "code",
   "execution_count": 4,
   "metadata": {
    "collapsed": false
   },
   "outputs": [],
   "source": [
    "feature_columns_to_use = ['Dates', 'DayOfWeek', 'PdDistrict', 'Address', 'X', 'Y']"
   ]
  },
  {
   "cell_type": "code",
   "execution_count": 5,
   "metadata": {
    "collapsed": false
   },
   "outputs": [],
   "source": [
    "data = train_data[feature_columns_to_use].append(test_data[feature_columns_to_use])"
   ]
  },
  {
   "cell_type": "code",
   "execution_count": 8,
   "metadata": {
    "collapsed": true
   },
   "outputs": [],
   "source": [
    "from collections import defaultdict\n",
    "from sklearn.decomposition import PCA\n",
    "\n",
    "def get_streets(street):\n",
    "    if street.find('/') != -1:\n",
    "        return map(str.strip, street.split('/'))\n",
    "    pos = street.find('Block of ')\n",
    "    if pos != -1:        \n",
    "        return [street[pos+9:]]    \n",
    "    return [street]\n",
    "\n",
    "def is_corner(addr):\n",
    "    streets = get_streets(addr)\n",
    "    if len(list(streets))>1:\n",
    "        return 1\n",
    "    return 0\n",
    "\n",
    "def addr_to_street(addr):\n",
    "    streets = get_streets(addr)\n",
    "    return '_'.join(streets)"
   ]
  },
  {
   "cell_type": "code",
   "execution_count": 9,
   "metadata": {
    "collapsed": false
   },
   "outputs": [],
   "source": [
    "data['Corner'] = data.Address.apply(is_corner)\n",
    "data['Street'] = data.Address.apply(addr_to_street)"
   ]
  },
  {
   "cell_type": "code",
   "execution_count": 10,
   "metadata": {
    "collapsed": false
   },
   "outputs": [],
   "source": [
    "nonnumeric_columns = ['DayOfWeek','PdDistrict','Address','Street']\n",
    "\n",
    "from sklearn.preprocessing import LabelEncoder\n",
    "\n",
    "le = LabelEncoder()\n",
    "for feature in nonnumeric_columns:\n",
    "    data[\"{}_Conv\".format(feature)] = le.fit_transform(data[feature])"
   ]
  },
  {
   "cell_type": "code",
   "execution_count": 11,
   "metadata": {
    "collapsed": true
   },
   "outputs": [],
   "source": [
    "cat_conv = LabelEncoder()\n",
    "train_data['Category'] = cat_conv.fit_transform(train_data['Category'])"
   ]
  },
  {
   "cell_type": "code",
   "execution_count": 12,
   "metadata": {
    "collapsed": false
   },
   "outputs": [],
   "source": [
    "def convert_time(data):\n",
    "    data['Min'] = data.Dates.apply(lambda x: x.minute)\n",
    "    data['Hour'] = data.Dates.apply(lambda x: x.hour)\n",
    "    data['Day'] = data.Dates.apply(lambda x: x.day)\n",
    "    data['Month'] = data.Dates.apply(lambda x: x.month)\n",
    "    data['Year'] = data.Dates.apply(lambda x: x.year)\n",
    "    data['WeekNumber'] = data.Dates.apply(lambda x: x.isocalendar()[1])\n",
    "    return data\n",
    "\n",
    "data.Dates = pd.to_datetime(data.Dates)\n",
    "data = convert_time(data)"
   ]
  },
  {
   "cell_type": "markdown",
   "metadata": {},
   "source": [
    "## Построение модели"
   ]
  },
  {
   "cell_type": "code",
   "execution_count": 13,
   "metadata": {
    "collapsed": false
   },
   "outputs": [],
   "source": [
    "def prepare_data(data, train_data, feature_columns, eval_week=10):\n",
    "    train_X = data[feature_columns][0:train_data.shape[0]][data[0:train_data.shape[0]].WeekNumber % eval_week != 0].as_matrix()\n",
    "    eval_X = data[feature_columns][0:train_data.shape[0]][data[0:train_data.shape[0]].WeekNumber % eval_week == 0].as_matrix()\n",
    "\n",
    "    test_X = data[feature_columns][train_data.shape[0]::].as_matrix()\n",
    "\n",
    "    train_y = train_data[data[0:train_data.shape[0]].WeekNumber % eval_week != 0]['Category']\n",
    "    eval_y = train_data[data[0:train_data.shape[0]].WeekNumber % eval_week == 0]['Category']\n",
    "    \n",
    "    return train_X, eval_X, test_X, train_y, eval_y"
   ]
  },
  {
   "cell_type": "code",
   "execution_count": 14,
   "metadata": {
    "collapsed": false
   },
   "outputs": [],
   "source": [
    "import xgboost as xgb\n",
    "\n",
    "def run_xgb(train_X, eval_X, test_X, train_y, eval_y,\n",
    "            max_depth=10, n_estimators=1000, learning_rate=0.05,\n",
    "            early_stopping_rounds=10, seed=42):\n",
    "    \n",
    "    start_time = datetime.datetime.now()\n",
    "\n",
    "    gbm = xgb.XGBClassifier(max_depth=max_depth,\n",
    "                            n_estimators=n_estimators,\n",
    "                            learning_rate=learning_rate,\n",
    "                            nthread=4,\n",
    "                            seed=seed,\n",
    "                            silent=False).fit(train_X, train_y,\n",
    "                                             eval_metric='mlogloss',\n",
    "                                             eval_set=[(eval_X, eval_y)],\n",
    "                                             early_stopping_rounds=early_stopping_rounds,\n",
    "                                             verbose=True\n",
    "                                             )\n",
    "\n",
    "    duration = (datetime.datetime.now() - start_time).total_seconds()\n",
    "    print('Time elapsed: {0}'.format(duration))\n",
    "    \n",
    "    return gbm"
   ]
  },
  {
   "cell_type": "code",
   "execution_count": 20,
   "metadata": {
    "collapsed": false
   },
   "outputs": [],
   "source": [
    "def get_predictions(model, test_X):\n",
    "    predictions = model.predict_proba(test_X)\n",
    "    return np.split(predictions, 2, axis=1)[1].T"
   ]
  },
  {
   "cell_type": "code",
   "execution_count": 16,
   "metadata": {
    "collapsed": false
   },
   "outputs": [],
   "source": [
    "def save_predicts(name, predictions, index, columns, float_format='%.6f'):\n",
    "    df = pd.DataFrame(predictions, index=index, columns=columns)\n",
    "    df.index.name = 'Id'\n",
    "    df.to_csv('./output/{}.csv.gz'.format(name), compression='gzip', float_format=float_format)"
   ]
  },
  {
   "cell_type": "code",
   "execution_count": 17,
   "metadata": {
    "collapsed": false
   },
   "outputs": [],
   "source": [
    "from sklearn.externals import joblib\n",
    "\n",
    "def save_model(name, model):    \n",
    "    out = joblib.dump(model, 'models/{}.pkl'.format(name)) "
   ]
  },
  {
   "cell_type": "code",
   "execution_count": null,
   "metadata": {
    "collapsed": false
   },
   "outputs": [],
   "source": [
    "feature_columns = ['Min', 'Hour', 'Day', 'Month', 'Year',\n",
    "                   'DayOfWeek_Conv', 'PdDistrict_Conv', 'Address_Conv', 'X', 'Y',\n",
    "                   'Corner', 'Street_Conv']\n",
    "\n",
    "train_X, eval_X, test_X, train_y, eval_y = prepare_data(data, train_data,\n",
    "                                                        feature_columns, eval_week=7)\n",
    "\n",
    "gbm1 = run_xgb(train_X, eval_X, test_X, train_y, eval_y, max_depth=10,\n",
    "               n_estimators=1000, learning_rate=0.05, early_stopping_rounds=15,\n",
    "               seed=15)\n",
    "\n",
    "predictions = get_predictions(gbm1, test_X)\n",
    "save_predicts('xgb2_1',\n",
    "              predictions,\n",
    "              data[feature_columns][train_data.shape[0]::].index,\n",
    "              cat_conv.classes_)\n",
    "save_model('xgb2_1', gbm1)"
   ]
  },
  {
   "cell_type": "code",
   "execution_count": 33,
   "metadata": {
    "collapsed": false
   },
   "outputs": [
    {
     "name": "stdout",
     "output_type": "stream",
     "text": [
      "Evals count: 397\n"
     ]
    },
    {
     "data": {
      "text/plain": [
       "{'validation_0': {'mlogloss': ['3.53066',\n",
       "   '3.43121',\n",
       "   '3.34843',\n",
       "   '3.27758',\n",
       "   '3.21548',\n",
       "   '3.16036',\n",
       "   '3.11074',\n",
       "   '3.06572',\n",
       "   '3.02422',\n",
       "   '2.98620',\n",
       "   '2.95123',\n",
       "   '2.91873',\n",
       "   '2.88839',\n",
       "   '2.86017',\n",
       "   '2.83379',\n",
       "   '2.80889',\n",
       "   '2.78551',\n",
       "   '2.76346',\n",
       "   '2.74261',\n",
       "   '2.72303',\n",
       "   '2.70433',\n",
       "   '2.68659',\n",
       "   '2.66971',\n",
       "   '2.65371',\n",
       "   '2.63840',\n",
       "   '2.62381',\n",
       "   '2.61000',\n",
       "   '2.59678',\n",
       "   '2.58425',\n",
       "   '2.57215',\n",
       "   '2.56058',\n",
       "   '2.54956',\n",
       "   '2.53906',\n",
       "   '2.52894',\n",
       "   '2.51910',\n",
       "   '2.50985',\n",
       "   '2.50090',\n",
       "   '2.49231',\n",
       "   '2.48409',\n",
       "   '2.47624',\n",
       "   '2.46862',\n",
       "   '2.46118',\n",
       "   '2.45418',\n",
       "   '2.44739',\n",
       "   '2.44093',\n",
       "   '2.43467',\n",
       "   '2.42860',\n",
       "   '2.42270',\n",
       "   '2.41700',\n",
       "   '2.41161',\n",
       "   '2.40639',\n",
       "   '2.40143',\n",
       "   '2.39656',\n",
       "   '2.39178',\n",
       "   '2.38709',\n",
       "   '2.38262',\n",
       "   '2.37826',\n",
       "   '2.37413',\n",
       "   '2.36999',\n",
       "   '2.36619',\n",
       "   '2.36240',\n",
       "   '2.35877',\n",
       "   '2.35518',\n",
       "   '2.35185',\n",
       "   '2.34850',\n",
       "   '2.34539',\n",
       "   '2.34210',\n",
       "   '2.33919',\n",
       "   '2.33636',\n",
       "   '2.33359',\n",
       "   '2.33084',\n",
       "   '2.32830',\n",
       "   '2.32570',\n",
       "   '2.32330',\n",
       "   '2.32088',\n",
       "   '2.31861',\n",
       "   '2.31643',\n",
       "   '2.31435',\n",
       "   '2.31225',\n",
       "   '2.31023',\n",
       "   '2.30815',\n",
       "   '2.30625',\n",
       "   '2.30444',\n",
       "   '2.30250',\n",
       "   '2.30079',\n",
       "   '2.29907',\n",
       "   '2.29749',\n",
       "   '2.29588',\n",
       "   '2.29431',\n",
       "   '2.29285',\n",
       "   '2.29139',\n",
       "   '2.28991',\n",
       "   '2.28858',\n",
       "   '2.28727',\n",
       "   '2.28599',\n",
       "   '2.28466',\n",
       "   '2.28346',\n",
       "   '2.28224',\n",
       "   '2.28107',\n",
       "   '2.27995',\n",
       "   '2.27891',\n",
       "   '2.27781',\n",
       "   '2.27670',\n",
       "   '2.27576',\n",
       "   '2.27475',\n",
       "   '2.27383',\n",
       "   '2.27290',\n",
       "   '2.27197',\n",
       "   '2.27112',\n",
       "   '2.27030',\n",
       "   '2.26946',\n",
       "   '2.26865',\n",
       "   '2.26788',\n",
       "   '2.26714',\n",
       "   '2.26635',\n",
       "   '2.26566',\n",
       "   '2.26492',\n",
       "   '2.26425',\n",
       "   '2.26351',\n",
       "   '2.26280',\n",
       "   '2.26215',\n",
       "   '2.26156',\n",
       "   '2.26098',\n",
       "   '2.26032',\n",
       "   '2.25968',\n",
       "   '2.25903',\n",
       "   '2.25842',\n",
       "   '2.25794',\n",
       "   '2.25743',\n",
       "   '2.25698',\n",
       "   '2.25639',\n",
       "   '2.25591',\n",
       "   '2.25531',\n",
       "   '2.25485',\n",
       "   '2.25434',\n",
       "   '2.25388',\n",
       "   '2.25347',\n",
       "   '2.25311',\n",
       "   '2.25270',\n",
       "   '2.25219',\n",
       "   '2.25181',\n",
       "   '2.25145',\n",
       "   '2.25103',\n",
       "   '2.25066',\n",
       "   '2.25030',\n",
       "   '2.24991',\n",
       "   '2.24954',\n",
       "   '2.24920',\n",
       "   '2.24885',\n",
       "   '2.24860',\n",
       "   '2.24828',\n",
       "   '2.24798',\n",
       "   '2.24767',\n",
       "   '2.24737',\n",
       "   '2.24712',\n",
       "   '2.24690',\n",
       "   '2.24660',\n",
       "   '2.24636',\n",
       "   '2.24616',\n",
       "   '2.24592',\n",
       "   '2.24569',\n",
       "   '2.24544',\n",
       "   '2.24521',\n",
       "   '2.24496',\n",
       "   '2.24475',\n",
       "   '2.24456',\n",
       "   '2.24437',\n",
       "   '2.24414',\n",
       "   '2.24397',\n",
       "   '2.24377',\n",
       "   '2.24355',\n",
       "   '2.24342',\n",
       "   '2.24320',\n",
       "   '2.24301',\n",
       "   '2.24285',\n",
       "   '2.24268',\n",
       "   '2.24257',\n",
       "   '2.24240',\n",
       "   '2.24228',\n",
       "   '2.24212',\n",
       "   '2.24195',\n",
       "   '2.24182',\n",
       "   '2.24169',\n",
       "   '2.24156',\n",
       "   '2.24146',\n",
       "   '2.24132',\n",
       "   '2.24115',\n",
       "   '2.24104',\n",
       "   '2.24092',\n",
       "   '2.24083',\n",
       "   '2.24074',\n",
       "   '2.24063',\n",
       "   '2.24053',\n",
       "   '2.24042',\n",
       "   '2.24032',\n",
       "   '2.24019',\n",
       "   '2.24007',\n",
       "   '2.23996',\n",
       "   '2.23989',\n",
       "   '2.23979',\n",
       "   '2.23965',\n",
       "   '2.23950',\n",
       "   '2.23943',\n",
       "   '2.23932',\n",
       "   '2.23921',\n",
       "   '2.23911',\n",
       "   '2.23903',\n",
       "   '2.23895',\n",
       "   '2.23887',\n",
       "   '2.23878',\n",
       "   '2.23869',\n",
       "   '2.23863',\n",
       "   '2.23856',\n",
       "   '2.23848',\n",
       "   '2.23839',\n",
       "   '2.23833',\n",
       "   '2.23822',\n",
       "   '2.23813',\n",
       "   '2.23804',\n",
       "   '2.23797',\n",
       "   '2.23789',\n",
       "   '2.23782',\n",
       "   '2.23775',\n",
       "   '2.23767',\n",
       "   '2.23758',\n",
       "   '2.23752',\n",
       "   '2.23744',\n",
       "   '2.23738',\n",
       "   '2.23735',\n",
       "   '2.23727',\n",
       "   '2.23718',\n",
       "   '2.23707',\n",
       "   '2.23696',\n",
       "   '2.23690',\n",
       "   '2.23683',\n",
       "   '2.23679',\n",
       "   '2.23670',\n",
       "   '2.23661',\n",
       "   '2.23654',\n",
       "   '2.23651',\n",
       "   '2.23644',\n",
       "   '2.23640',\n",
       "   '2.23636',\n",
       "   '2.23634',\n",
       "   '2.23631',\n",
       "   '2.23627',\n",
       "   '2.23623',\n",
       "   '2.23618',\n",
       "   '2.23605',\n",
       "   '2.23601',\n",
       "   '2.23597',\n",
       "   '2.23595',\n",
       "   '2.23590',\n",
       "   '2.23581',\n",
       "   '2.23578',\n",
       "   '2.23575',\n",
       "   '2.23572',\n",
       "   '2.23572',\n",
       "   '2.23564',\n",
       "   '2.23562',\n",
       "   '2.23559',\n",
       "   '2.23557',\n",
       "   '2.23550',\n",
       "   '2.23549',\n",
       "   '2.23547',\n",
       "   '2.23541',\n",
       "   '2.23538',\n",
       "   '2.23535',\n",
       "   '2.23531',\n",
       "   '2.23527',\n",
       "   '2.23522',\n",
       "   '2.23520',\n",
       "   '2.23518',\n",
       "   '2.23517',\n",
       "   '2.23514',\n",
       "   '2.23512',\n",
       "   '2.23509',\n",
       "   '2.23506',\n",
       "   '2.23503',\n",
       "   '2.23504',\n",
       "   '2.23502',\n",
       "   '2.23496',\n",
       "   '2.23490',\n",
       "   '2.23483',\n",
       "   '2.23476',\n",
       "   '2.23473',\n",
       "   '2.23472',\n",
       "   '2.23471',\n",
       "   '2.23467',\n",
       "   '2.23465',\n",
       "   '2.23458',\n",
       "   '2.23457',\n",
       "   '2.23453',\n",
       "   '2.23450',\n",
       "   '2.23446',\n",
       "   '2.23443',\n",
       "   '2.23442',\n",
       "   '2.23439',\n",
       "   '2.23436',\n",
       "   '2.23433',\n",
       "   '2.23431',\n",
       "   '2.23433',\n",
       "   '2.23428',\n",
       "   '2.23424',\n",
       "   '2.23417',\n",
       "   '2.23413',\n",
       "   '2.23407',\n",
       "   '2.23402',\n",
       "   '2.23401',\n",
       "   '2.23400',\n",
       "   '2.23397',\n",
       "   '2.23399',\n",
       "   '2.23399',\n",
       "   '2.23394',\n",
       "   '2.23391',\n",
       "   '2.23388',\n",
       "   '2.23386',\n",
       "   '2.23385',\n",
       "   '2.23380',\n",
       "   '2.23379',\n",
       "   '2.23377',\n",
       "   '2.23376',\n",
       "   '2.23377',\n",
       "   '2.23378',\n",
       "   '2.23371',\n",
       "   '2.23370',\n",
       "   '2.23368',\n",
       "   '2.23366',\n",
       "   '2.23364',\n",
       "   '2.23365',\n",
       "   '2.23364',\n",
       "   '2.23362',\n",
       "   '2.23359',\n",
       "   '2.23355',\n",
       "   '2.23353',\n",
       "   '2.23350',\n",
       "   '2.23353',\n",
       "   '2.23349',\n",
       "   '2.23347',\n",
       "   '2.23347',\n",
       "   '2.23348',\n",
       "   '2.23349',\n",
       "   '2.23350',\n",
       "   '2.23350',\n",
       "   '2.23349',\n",
       "   '2.23346',\n",
       "   '2.23348',\n",
       "   '2.23346',\n",
       "   '2.23344',\n",
       "   '2.23342',\n",
       "   '2.23343',\n",
       "   '2.23345',\n",
       "   '2.23344',\n",
       "   '2.23341',\n",
       "   '2.23339',\n",
       "   '2.23338',\n",
       "   '2.23337',\n",
       "   '2.23335',\n",
       "   '2.23336',\n",
       "   '2.23335',\n",
       "   '2.23334',\n",
       "   '2.23334',\n",
       "   '2.23334',\n",
       "   '2.23330',\n",
       "   '2.23332',\n",
       "   '2.23331',\n",
       "   '2.23333',\n",
       "   '2.23335',\n",
       "   '2.23335',\n",
       "   '2.23335',\n",
       "   '2.23335',\n",
       "   '2.23335',\n",
       "   '2.23333',\n",
       "   '2.23332',\n",
       "   '2.23330',\n",
       "   '2.23331',\n",
       "   '2.23332',\n",
       "   '2.23334',\n",
       "   '2.23335',\n",
       "   '2.23335',\n",
       "   '2.23330',\n",
       "   '2.23328',\n",
       "   '2.23329',\n",
       "   '2.23331',\n",
       "   '2.23333',\n",
       "   '2.23334',\n",
       "   '2.23335',\n",
       "   '2.23332',\n",
       "   '2.23332',\n",
       "   '2.23332',\n",
       "   '2.23332',\n",
       "   '2.23332',\n",
       "   '2.23333',\n",
       "   '2.23336',\n",
       "   '2.23337',\n",
       "   '2.23338',\n",
       "   '2.23338']}}"
      ]
     },
     "execution_count": 33,
     "metadata": {},
     "output_type": "execute_result"
    }
   ],
   "source": [
    "print('Evals count: {}'.format(len(gbm1.evals_result_['validation_0']['mlogloss'])))\n",
    "gbm1.evals_result_"
   ]
  },
  {
   "cell_type": "code",
   "execution_count": 25,
   "metadata": {
    "collapsed": false
   },
   "outputs": [
    {
     "data": {
      "text/plain": [
       "<matplotlib.axes._subplots.AxesSubplot at 0x7fd8a98f5a20>"
      ]
     },
     "execution_count": 25,
     "metadata": {},
     "output_type": "execute_result"
    },
    {
     "data": {
      "image/png": "[encoded data removed]",
      "text/plain": [
       "<matplotlib.figure.Figure at 0x7fd8a98f5828>"
      ]
     },
     "metadata": {},
     "output_type": "display_data"
    }
   ],
   "source": [
    "from xgboost import plot_importance\n",
    "plot_importance(gbm1.booster())"
   ]
  },
  {
   "cell_type": "code",
   "execution_count": 28,
   "metadata": {
    "collapsed": false
   },
   "outputs": [
    {
     "name": "stdout",
     "output_type": "stream",
     "text": [
      "['f0 = Min', 'f1 = Hour', 'f2 = Day', 'f3 = Month', 'f4 = Year', 'f5 = DayOfWeek_Conv', 'f6 = PdDistrict_Conv', 'f7 = Address_Conv', 'f8 = X', 'f9 = Y', 'f10 = Corner', 'f11 = Street_Conv']\n"
     ]
    }
   ],
   "source": [
    "print([\"f{0} = {1}\".format(i, x) for i, x in enumerate(feature_columns)])"
   ]
  },
  {
   "cell_type": "code",
   "execution_count": 29,
   "metadata": {
    "collapsed": true
   },
   "outputs": [],
   "source": [
    "# 2.24374"
   ]
  }
 ],
 "metadata": {
  "kernelspec": {
   "display_name": "Python 3",
   "language": "python",
   "name": "python3"
  },
  "language_info": {
   "codemirror_mode": {
    "name": "ipython",
    "version": 3
   },
   "file_extension": ".py",
   "mimetype": "text/x-python",
   "name": "python",
   "nbconvert_exporter": "python",
   "pygments_lexer": "ipython3",
   "version": "3.5.1"
  }
 },
 "nbformat": 4,
 "nbformat_minor": 0
}
