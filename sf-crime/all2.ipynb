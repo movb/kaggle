{
 "cells": [
  {
   "cell_type": "markdown",
   "metadata": {},
   "source": [
    "# Соревнование: San Francisco Crime Classification\n",
    "\n",
    "_Given time and location, you must predict the category of crime that occurred. Kaggle is hosting this competition for the machine learning community to use for fun and practice._\n",
    "\n",
    "https://www.kaggle.com/c/sf-crime"
   ]
  },
  {
   "cell_type": "markdown",
   "metadata": {},
   "source": [
    "## 1. Подготовка работы. Загрузка библиотек и настройка отображения\n",
    "Импорты и настроийки, которые необходимы для шаблона."
   ]
  },
  {
   "cell_type": "code",
   "execution_count": 1,
   "metadata": {
    "collapsed": false
   },
   "outputs": [],
   "source": [
    "import pandas as pd\n",
    "import numpy as np\n",
    "import matplotlib.pyplot as plt\n",
    "import time\n",
    "import datetime\n",
    "\n",
    "%matplotlib inline"
   ]
  },
  {
   "cell_type": "markdown",
   "metadata": {},
   "source": [
    "## 2. Загрузка, очистка данных."
   ]
  },
  {
   "cell_type": "markdown",
   "metadata": {},
   "source": [
    "Загрузка тренировочных данных из csv:"
   ]
  },
  {
   "cell_type": "code",
   "execution_count": 2,
   "metadata": {
    "collapsed": false
   },
   "outputs": [],
   "source": [
    "train_data = pd.read_csv('data/train.csv')\n",
    "test_data = pd.read_csv('data/test.csv', index_col='Id')"
   ]
  },
  {
   "cell_type": "code",
   "execution_count": 3,
   "metadata": {
    "collapsed": false
   },
   "outputs": [],
   "source": [
    "feature_columns_to_use = ['Dates', 'DayOfWeek', 'PdDistrict', 'Address', 'X', 'Y']\n",
    "nonnumeric_columns = ['DayOfWeek','PdDistrict','Address']"
   ]
  },
  {
   "cell_type": "code",
   "execution_count": 4,
   "metadata": {
    "collapsed": false
   },
   "outputs": [],
   "source": [
    "data = train_data[feature_columns_to_use].append(test_data[feature_columns_to_use])"
   ]
  },
  {
   "cell_type": "code",
   "execution_count": 5,
   "metadata": {
    "collapsed": false
   },
   "outputs": [],
   "source": [
    "from sklearn.preprocessing import LabelEncoder\n",
    "\n",
    "le = LabelEncoder()\n",
    "for feature in nonnumeric_columns:\n",
    "    data[\"{}_Conv\".format(feature)] = le.fit_transform(data[feature])"
   ]
  },
  {
   "cell_type": "code",
   "execution_count": 6,
   "metadata": {
    "collapsed": true
   },
   "outputs": [],
   "source": [
    "cat_conv = LabelEncoder()\n",
    "train_data['Category'] = cat_conv.fit_transform(train_data['Category'])"
   ]
  },
  {
   "cell_type": "code",
   "execution_count": 7,
   "metadata": {
    "collapsed": false
   },
   "outputs": [],
   "source": [
    "def convert_time(data):\n",
    "    data['Min'] = data.Dates.apply(lambda x: x.minute)\n",
    "    data['Hour'] = data.Dates.apply(lambda x: x.hour)\n",
    "    data['Day'] = data.Dates.apply(lambda x: x.day)\n",
    "    data['Month'] = data.Dates.apply(lambda x: x.month)\n",
    "    data['Year'] = data.Dates.apply(lambda x: x.year)\n",
    "    data['WeekNumber'] = data.Dates.apply(lambda x: x.isocalendar()[1])\n",
    "    return data\n",
    "\n",
    "data.Dates = pd.to_datetime(data.Dates)\n",
    "data = convert_time(data)"
   ]
  },
  {
   "cell_type": "code",
   "execution_count": 8,
   "metadata": {
    "collapsed": true
   },
   "outputs": [],
   "source": [
    "from collections import defaultdict\n",
    "from sklearn.decomposition import PCA\n",
    "\n",
    "def conv_street(street):\n",
    "    if street.find('/') != -1:\n",
    "        return map(str.strip, street.split('/'))\n",
    "    pos = street.find('Block of ')\n",
    "    if pos != -1:        \n",
    "        return [street[pos+9:]]    \n",
    "    return [street]\n",
    "\n",
    "def get_streets(adr_column):\n",
    "    streets = set()\n",
    "    street_to_addr = defaultdict(list)\n",
    "    for i, x in enumerate(adr_column):\n",
    "        adr_streets = conv_street(x)\n",
    "        for street in adr_streets:\n",
    "            street_to_addr[street].append(i)\n",
    "        streets |= set(adr_streets)\n",
    "        \n",
    "    street_names = []\n",
    "    streets_cols = np.zeros((len(adr_column),len(streets)), dtype=bool)\n",
    "    for i, street in enumerate(streets):\n",
    "        street_names.append(\"street_{}\".format(street))\n",
    "        for j in street_to_addr[street]:\n",
    "            streets_cols[j,i] = 1\n",
    "\n",
    "    n_components = 10\n",
    "    pca = PCA(n_components=n_components)\n",
    "    pca.fit(streets_cols)\n",
    "    \n",
    "    return pd.DataFrame(pca.transform(streets_cols), columns=[\"PCA_{}\".format(i) for i in range(n_components)])"
   ]
  },
  {
   "cell_type": "code",
   "execution_count": null,
   "metadata": {
    "collapsed": false
   },
   "outputs": [],
   "source": [
    "streets = get_streets(data.Address)"
   ]
  },
  {
   "cell_type": "code",
   "execution_count": null,
   "metadata": {
    "collapsed": true
   },
   "outputs": [],
   "source": [
    "data = pd.concat([data,streets], axis=1, ignore_index=True)"
   ]
  },
  {
   "cell_type": "code",
   "execution_count": 10,
   "metadata": {
    "collapsed": false
   },
   "outputs": [],
   "source": [
    "feature_columns = ['Min', 'Hour', 'Day', 'Month', 'Year',\n",
    "                   'DayOfWeek_Conv', 'PdDistrict_Conv', 'Address_Conv', 'X', 'Y']\n",
    "\n",
    "train_X = data[feature_columns][0:train_data.shape[0]][data[0:train_data.shape[0]].WeekNumber % 10 != 0].as_matrix()\n",
    "eval_X = data[feature_columns][0:train_data.shape[0]][data[0:train_data.shape[0]].WeekNumber % 10 == 0].as_matrix()\n",
    "\n",
    "test_X = data[feature_columns][train_data.shape[0]::].as_matrix()\n",
    "\n",
    "train_y = train_data[data[0:train_data.shape[0]].WeekNumber % 10 != 0]['Category']\n",
    "eval_y = train_data[data[0:train_data.shape[0]].WeekNumber % 10 == 0]['Category']"
   ]
  },
  {
   "cell_type": "code",
   "execution_count": 11,
   "metadata": {
    "collapsed": false
   },
   "outputs": [],
   "source": [
    "evals = [(eval_X, eval_y)]"
   ]
  },
  {
   "cell_type": "code",
   "execution_count": 12,
   "metadata": {
    "collapsed": false
   },
   "outputs": [
    {
     "name": "stderr",
     "output_type": "stream",
     "text": [
      "Will train until validation_0 error hasn't decreased in 10 rounds.\n",
      "[0]\tvalidation_0-mlogloss:3.533614\n",
      "[1]\tvalidation_0-mlogloss:3.434867\n",
      "[2]\tvalidation_0-mlogloss:3.353081\n",
      "[3]\tvalidation_0-mlogloss:3.282965\n",
      "[4]\tvalidation_0-mlogloss:3.222069\n",
      "[5]\tvalidation_0-mlogloss:3.167467\n",
      "[6]\tvalidation_0-mlogloss:3.118550\n",
      "[7]\tvalidation_0-mlogloss:3.073960\n",
      "[8]\tvalidation_0-mlogloss:3.033144\n",
      "[9]\tvalidation_0-mlogloss:2.995590\n",
      "[10]\tvalidation_0-mlogloss:2.960981\n",
      "[11]\tvalidation_0-mlogloss:2.928759\n",
      "[12]\tvalidation_0-mlogloss:2.898824\n",
      "[13]\tvalidation_0-mlogloss:2.870691\n",
      "[14]\tvalidation_0-mlogloss:2.844501\n",
      "[15]\tvalidation_0-mlogloss:2.819782\n",
      "[16]\tvalidation_0-mlogloss:2.796278\n",
      "[17]\tvalidation_0-mlogloss:2.774411\n",
      "[18]\tvalidation_0-mlogloss:2.753544\n",
      "[19]\tvalidation_0-mlogloss:2.733886\n",
      "[20]\tvalidation_0-mlogloss:2.715266\n",
      "[21]\tvalidation_0-mlogloss:2.697665\n",
      "[22]\tvalidation_0-mlogloss:2.680903\n",
      "[23]\tvalidation_0-mlogloss:2.665045\n",
      "[24]\tvalidation_0-mlogloss:2.649951\n",
      "[25]\tvalidation_0-mlogloss:2.635643\n",
      "[26]\tvalidation_0-mlogloss:2.621859\n",
      "[27]\tvalidation_0-mlogloss:2.608744\n",
      "[28]\tvalidation_0-mlogloss:2.596246\n",
      "[29]\tvalidation_0-mlogloss:2.584273\n",
      "[30]\tvalidation_0-mlogloss:2.572954\n",
      "[31]\tvalidation_0-mlogloss:2.562037\n",
      "[32]\tvalidation_0-mlogloss:2.551621\n",
      "[33]\tvalidation_0-mlogloss:2.541651\n",
      "[34]\tvalidation_0-mlogloss:2.532160\n",
      "[35]\tvalidation_0-mlogloss:2.523071\n",
      "[36]\tvalidation_0-mlogloss:2.514254\n",
      "[37]\tvalidation_0-mlogloss:2.505786\n",
      "[38]\tvalidation_0-mlogloss:2.497749\n",
      "[39]\tvalidation_0-mlogloss:2.489989\n",
      "[40]\tvalidation_0-mlogloss:2.482483\n",
      "[41]\tvalidation_0-mlogloss:2.475338\n",
      "[42]\tvalidation_0-mlogloss:2.468438\n",
      "[43]\tvalidation_0-mlogloss:2.461748\n",
      "[44]\tvalidation_0-mlogloss:2.455198\n",
      "[45]\tvalidation_0-mlogloss:2.448961\n",
      "[46]\tvalidation_0-mlogloss:2.443059\n",
      "[47]\tvalidation_0-mlogloss:2.437362\n",
      "[48]\tvalidation_0-mlogloss:2.431801\n",
      "[49]\tvalidation_0-mlogloss:2.426497\n",
      "[50]\tvalidation_0-mlogloss:2.421406\n",
      "[51]\tvalidation_0-mlogloss:2.416407\n",
      "[52]\tvalidation_0-mlogloss:2.411645\n",
      "[53]\tvalidation_0-mlogloss:2.407036\n",
      "[54]\tvalidation_0-mlogloss:2.402538\n",
      "[55]\tvalidation_0-mlogloss:2.398030\n",
      "[56]\tvalidation_0-mlogloss:2.393877\n",
      "[57]\tvalidation_0-mlogloss:2.389806\n",
      "[58]\tvalidation_0-mlogloss:2.385927\n",
      "[59]\tvalidation_0-mlogloss:2.382114\n",
      "[60]\tvalidation_0-mlogloss:2.378421\n",
      "[61]\tvalidation_0-mlogloss:2.374821\n",
      "[62]\tvalidation_0-mlogloss:2.371309\n",
      "[63]\tvalidation_0-mlogloss:2.368085\n",
      "[64]\tvalidation_0-mlogloss:2.364845\n",
      "[65]\tvalidation_0-mlogloss:2.361806\n",
      "[66]\tvalidation_0-mlogloss:2.358803\n",
      "[67]\tvalidation_0-mlogloss:2.355932\n",
      "[68]\tvalidation_0-mlogloss:2.353081\n",
      "[69]\tvalidation_0-mlogloss:2.350508\n",
      "[70]\tvalidation_0-mlogloss:2.347877\n",
      "[71]\tvalidation_0-mlogloss:2.345319\n",
      "[72]\tvalidation_0-mlogloss:2.342816\n",
      "[73]\tvalidation_0-mlogloss:2.340484\n",
      "[74]\tvalidation_0-mlogloss:2.337884\n",
      "[75]\tvalidation_0-mlogloss:2.335637\n",
      "[76]\tvalidation_0-mlogloss:2.333410\n",
      "[77]\tvalidation_0-mlogloss:2.331217\n",
      "[78]\tvalidation_0-mlogloss:2.329254\n",
      "[79]\tvalidation_0-mlogloss:2.327171\n",
      "[80]\tvalidation_0-mlogloss:2.325242\n",
      "[81]\tvalidation_0-mlogloss:2.323323\n",
      "[82]\tvalidation_0-mlogloss:2.321523\n",
      "[83]\tvalidation_0-mlogloss:2.319848\n",
      "[84]\tvalidation_0-mlogloss:2.318107\n",
      "[85]\tvalidation_0-mlogloss:2.316476\n",
      "[86]\tvalidation_0-mlogloss:2.314888\n",
      "[87]\tvalidation_0-mlogloss:2.313262\n",
      "[88]\tvalidation_0-mlogloss:2.311784\n",
      "[89]\tvalidation_0-mlogloss:2.310299\n",
      "[90]\tvalidation_0-mlogloss:2.308868\n",
      "[91]\tvalidation_0-mlogloss:2.307490\n",
      "[92]\tvalidation_0-mlogloss:2.306149\n",
      "[93]\tvalidation_0-mlogloss:2.304784\n",
      "[94]\tvalidation_0-mlogloss:2.303590\n",
      "[95]\tvalidation_0-mlogloss:2.302404\n",
      "[96]\tvalidation_0-mlogloss:2.301173\n",
      "[97]\tvalidation_0-mlogloss:2.299980\n",
      "[98]\tvalidation_0-mlogloss:2.298934\n",
      "[99]\tvalidation_0-mlogloss:2.297772\n",
      "[100]\tvalidation_0-mlogloss:2.296768\n",
      "[101]\tvalidation_0-mlogloss:2.295767\n",
      "[102]\tvalidation_0-mlogloss:2.294744\n",
      "[103]\tvalidation_0-mlogloss:2.293713\n",
      "[104]\tvalidation_0-mlogloss:2.292844\n",
      "[105]\tvalidation_0-mlogloss:2.291992\n",
      "[106]\tvalidation_0-mlogloss:2.291088\n",
      "[107]\tvalidation_0-mlogloss:2.290223\n",
      "[108]\tvalidation_0-mlogloss:2.289410\n",
      "[109]\tvalidation_0-mlogloss:2.288607\n",
      "[110]\tvalidation_0-mlogloss:2.287837\n",
      "[111]\tvalidation_0-mlogloss:2.287091\n",
      "[112]\tvalidation_0-mlogloss:2.286394\n",
      "[113]\tvalidation_0-mlogloss:2.285652\n",
      "[114]\tvalidation_0-mlogloss:2.284837\n",
      "[115]\tvalidation_0-mlogloss:2.284178\n",
      "[116]\tvalidation_0-mlogloss:2.283551\n",
      "[117]\tvalidation_0-mlogloss:2.282820\n",
      "[118]\tvalidation_0-mlogloss:2.282206\n",
      "[119]\tvalidation_0-mlogloss:2.281551\n",
      "[120]\tvalidation_0-mlogloss:2.280893\n",
      "[121]\tvalidation_0-mlogloss:2.280240\n",
      "[122]\tvalidation_0-mlogloss:2.279621\n",
      "[123]\tvalidation_0-mlogloss:2.278917\n",
      "[124]\tvalidation_0-mlogloss:2.278382\n",
      "[125]\tvalidation_0-mlogloss:2.277856\n",
      "[126]\tvalidation_0-mlogloss:2.277270\n",
      "[127]\tvalidation_0-mlogloss:2.276757\n",
      "[128]\tvalidation_0-mlogloss:2.276272\n",
      "[129]\tvalidation_0-mlogloss:2.275832\n",
      "[130]\tvalidation_0-mlogloss:2.275400\n",
      "[131]\tvalidation_0-mlogloss:2.274955\n",
      "[132]\tvalidation_0-mlogloss:2.274424\n",
      "[133]\tvalidation_0-mlogloss:2.273808\n",
      "[134]\tvalidation_0-mlogloss:2.273341\n",
      "[135]\tvalidation_0-mlogloss:2.272968\n",
      "[136]\tvalidation_0-mlogloss:2.272616\n",
      "[137]\tvalidation_0-mlogloss:2.272213\n",
      "[138]\tvalidation_0-mlogloss:2.271841\n",
      "[139]\tvalidation_0-mlogloss:2.271442\n",
      "[140]\tvalidation_0-mlogloss:2.270854\n",
      "[141]\tvalidation_0-mlogloss:2.270517\n",
      "[142]\tvalidation_0-mlogloss:2.270239\n",
      "[143]\tvalidation_0-mlogloss:2.269940\n",
      "[144]\tvalidation_0-mlogloss:2.269571\n",
      "[145]\tvalidation_0-mlogloss:2.269290\n",
      "[146]\tvalidation_0-mlogloss:2.268915\n",
      "[147]\tvalidation_0-mlogloss:2.268506\n",
      "[148]\tvalidation_0-mlogloss:2.268251\n",
      "[149]\tvalidation_0-mlogloss:2.268019\n",
      "[150]\tvalidation_0-mlogloss:2.267549\n",
      "[151]\tvalidation_0-mlogloss:2.267342\n",
      "[152]\tvalidation_0-mlogloss:2.267082\n",
      "[153]\tvalidation_0-mlogloss:2.266710\n",
      "[154]\tvalidation_0-mlogloss:2.266479\n",
      "[155]\tvalidation_0-mlogloss:2.266205\n",
      "[156]\tvalidation_0-mlogloss:2.265960\n",
      "[157]\tvalidation_0-mlogloss:2.265707\n",
      "[158]\tvalidation_0-mlogloss:2.265462\n",
      "[159]\tvalidation_0-mlogloss:2.265172\n",
      "[160]\tvalidation_0-mlogloss:2.264864\n",
      "[161]\tvalidation_0-mlogloss:2.264685\n",
      "[162]\tvalidation_0-mlogloss:2.264356\n",
      "[163]\tvalidation_0-mlogloss:2.264112\n",
      "[164]\tvalidation_0-mlogloss:2.263934\n",
      "[165]\tvalidation_0-mlogloss:2.263733\n",
      "[166]\tvalidation_0-mlogloss:2.263504\n",
      "[167]\tvalidation_0-mlogloss:2.263312\n",
      "[168]\tvalidation_0-mlogloss:2.263167\n",
      "[169]\tvalidation_0-mlogloss:2.262965\n",
      "[170]\tvalidation_0-mlogloss:2.262782\n",
      "[171]\tvalidation_0-mlogloss:2.262594\n",
      "[172]\tvalidation_0-mlogloss:2.262460\n",
      "[173]\tvalidation_0-mlogloss:2.262312\n",
      "[174]\tvalidation_0-mlogloss:2.262125\n",
      "[175]\tvalidation_0-mlogloss:2.262001\n",
      "[176]\tvalidation_0-mlogloss:2.261772\n",
      "[177]\tvalidation_0-mlogloss:2.261631\n",
      "[178]\tvalidation_0-mlogloss:2.261515\n",
      "[179]\tvalidation_0-mlogloss:2.261354\n",
      "[180]\tvalidation_0-mlogloss:2.261174\n",
      "[181]\tvalidation_0-mlogloss:2.261069\n",
      "[182]\tvalidation_0-mlogloss:2.260889\n",
      "[183]\tvalidation_0-mlogloss:2.260753\n",
      "[184]\tvalidation_0-mlogloss:2.260630\n",
      "[185]\tvalidation_0-mlogloss:2.260522\n",
      "[186]\tvalidation_0-mlogloss:2.260372\n",
      "[187]\tvalidation_0-mlogloss:2.260281\n",
      "[188]\tvalidation_0-mlogloss:2.260142\n",
      "[189]\tvalidation_0-mlogloss:2.260054\n",
      "[190]\tvalidation_0-mlogloss:2.259904\n",
      "[191]\tvalidation_0-mlogloss:2.259786\n",
      "[192]\tvalidation_0-mlogloss:2.259635\n",
      "[193]\tvalidation_0-mlogloss:2.259549\n",
      "[194]\tvalidation_0-mlogloss:2.259447\n",
      "[195]\tvalidation_0-mlogloss:2.259326\n",
      "[196]\tvalidation_0-mlogloss:2.259232\n",
      "[197]\tvalidation_0-mlogloss:2.259168\n",
      "[198]\tvalidation_0-mlogloss:2.259099\n",
      "[199]\tvalidation_0-mlogloss:2.259026\n",
      "[200]\tvalidation_0-mlogloss:2.258906\n",
      "[201]\tvalidation_0-mlogloss:2.258821\n",
      "[202]\tvalidation_0-mlogloss:2.258743\n",
      "[203]\tvalidation_0-mlogloss:2.258630\n",
      "[204]\tvalidation_0-mlogloss:2.258593\n",
      "[205]\tvalidation_0-mlogloss:2.258514\n",
      "[206]\tvalidation_0-mlogloss:2.258419\n",
      "[207]\tvalidation_0-mlogloss:2.258365\n",
      "[208]\tvalidation_0-mlogloss:2.258288\n",
      "[209]\tvalidation_0-mlogloss:2.258186\n",
      "[210]\tvalidation_0-mlogloss:2.258099\n",
      "[211]\tvalidation_0-mlogloss:2.258058\n",
      "[212]\tvalidation_0-mlogloss:2.257999\n",
      "[213]\tvalidation_0-mlogloss:2.257944\n",
      "[214]\tvalidation_0-mlogloss:2.257889\n",
      "[215]\tvalidation_0-mlogloss:2.257802\n",
      "[216]\tvalidation_0-mlogloss:2.257678\n",
      "[217]\tvalidation_0-mlogloss:2.257609\n",
      "[218]\tvalidation_0-mlogloss:2.257577\n",
      "[219]\tvalidation_0-mlogloss:2.257527\n",
      "[220]\tvalidation_0-mlogloss:2.257465\n",
      "[221]\tvalidation_0-mlogloss:2.257415\n",
      "[222]\tvalidation_0-mlogloss:2.257342\n",
      "[223]\tvalidation_0-mlogloss:2.257293\n",
      "[224]\tvalidation_0-mlogloss:2.257269\n",
      "[225]\tvalidation_0-mlogloss:2.257269\n",
      "[226]\tvalidation_0-mlogloss:2.257230\n",
      "[227]\tvalidation_0-mlogloss:2.257094\n",
      "[228]\tvalidation_0-mlogloss:2.257040\n",
      "[229]\tvalidation_0-mlogloss:2.256968\n",
      "[230]\tvalidation_0-mlogloss:2.256944\n",
      "[231]\tvalidation_0-mlogloss:2.256892\n",
      "[232]\tvalidation_0-mlogloss:2.256800\n",
      "[233]\tvalidation_0-mlogloss:2.256720\n",
      "[234]\tvalidation_0-mlogloss:2.256611\n",
      "[235]\tvalidation_0-mlogloss:2.256613\n",
      "[236]\tvalidation_0-mlogloss:2.256539\n",
      "[237]\tvalidation_0-mlogloss:2.256487\n",
      "[238]\tvalidation_0-mlogloss:2.256409\n",
      "[239]\tvalidation_0-mlogloss:2.256394\n",
      "[240]\tvalidation_0-mlogloss:2.256358\n",
      "[241]\tvalidation_0-mlogloss:2.256326\n",
      "[242]\tvalidation_0-mlogloss:2.256330\n",
      "[243]\tvalidation_0-mlogloss:2.256305\n",
      "[244]\tvalidation_0-mlogloss:2.256255\n",
      "[245]\tvalidation_0-mlogloss:2.256225\n",
      "[246]\tvalidation_0-mlogloss:2.256186\n",
      "[247]\tvalidation_0-mlogloss:2.256155\n",
      "[248]\tvalidation_0-mlogloss:2.256107\n",
      "[249]\tvalidation_0-mlogloss:2.256019\n",
      "[250]\tvalidation_0-mlogloss:2.255992\n",
      "[251]\tvalidation_0-mlogloss:2.255930\n",
      "[252]\tvalidation_0-mlogloss:2.255870\n",
      "[253]\tvalidation_0-mlogloss:2.255858\n",
      "[254]\tvalidation_0-mlogloss:2.255782\n",
      "[255]\tvalidation_0-mlogloss:2.255737\n",
      "[256]\tvalidation_0-mlogloss:2.255711\n",
      "[257]\tvalidation_0-mlogloss:2.255687\n",
      "[258]\tvalidation_0-mlogloss:2.255655\n",
      "[259]\tvalidation_0-mlogloss:2.255610\n",
      "[260]\tvalidation_0-mlogloss:2.255603\n",
      "[261]\tvalidation_0-mlogloss:2.255564\n",
      "[262]\tvalidation_0-mlogloss:2.255512\n",
      "[263]\tvalidation_0-mlogloss:2.255481\n",
      "[264]\tvalidation_0-mlogloss:2.255476\n",
      "[265]\tvalidation_0-mlogloss:2.255429\n",
      "[266]\tvalidation_0-mlogloss:2.255411\n",
      "[267]\tvalidation_0-mlogloss:2.255400\n",
      "[268]\tvalidation_0-mlogloss:2.255387\n",
      "[269]\tvalidation_0-mlogloss:2.255324\n",
      "[270]\tvalidation_0-mlogloss:2.255302\n",
      "[271]\tvalidation_0-mlogloss:2.255260\n",
      "[272]\tvalidation_0-mlogloss:2.255245\n",
      "[273]\tvalidation_0-mlogloss:2.255205\n",
      "[274]\tvalidation_0-mlogloss:2.255159\n",
      "[275]\tvalidation_0-mlogloss:2.255132\n",
      "[276]\tvalidation_0-mlogloss:2.255144\n",
      "[277]\tvalidation_0-mlogloss:2.255117\n",
      "[278]\tvalidation_0-mlogloss:2.255101\n",
      "[279]\tvalidation_0-mlogloss:2.255110\n",
      "[280]\tvalidation_0-mlogloss:2.255108\n",
      "[281]\tvalidation_0-mlogloss:2.255059\n",
      "[282]\tvalidation_0-mlogloss:2.255039\n",
      "[283]\tvalidation_0-mlogloss:2.255051\n",
      "[284]\tvalidation_0-mlogloss:2.255039\n",
      "[285]\tvalidation_0-mlogloss:2.254979\n",
      "[286]\tvalidation_0-mlogloss:2.254955\n",
      "[287]\tvalidation_0-mlogloss:2.254925\n",
      "[288]\tvalidation_0-mlogloss:2.254885\n",
      "[289]\tvalidation_0-mlogloss:2.254862\n",
      "[290]\tvalidation_0-mlogloss:2.254814\n",
      "[291]\tvalidation_0-mlogloss:2.254827\n",
      "[292]\tvalidation_0-mlogloss:2.254823\n",
      "[293]\tvalidation_0-mlogloss:2.254825\n",
      "[294]\tvalidation_0-mlogloss:2.254812\n",
      "[295]\tvalidation_0-mlogloss:2.254820\n",
      "[296]\tvalidation_0-mlogloss:2.254803\n",
      "[297]\tvalidation_0-mlogloss:2.254776\n",
      "[298]\tvalidation_0-mlogloss:2.254762\n",
      "[299]\tvalidation_0-mlogloss:2.254730\n",
      "[300]\tvalidation_0-mlogloss:2.254740\n",
      "[301]\tvalidation_0-mlogloss:2.254715\n",
      "[302]\tvalidation_0-mlogloss:2.254700\n",
      "[303]\tvalidation_0-mlogloss:2.254689\n",
      "[304]\tvalidation_0-mlogloss:2.254700\n",
      "[305]\tvalidation_0-mlogloss:2.254705\n",
      "[306]\tvalidation_0-mlogloss:2.254689\n",
      "[307]\tvalidation_0-mlogloss:2.254643\n",
      "[308]\tvalidation_0-mlogloss:2.254618\n",
      "[309]\tvalidation_0-mlogloss:2.254570\n",
      "[310]\tvalidation_0-mlogloss:2.254538\n",
      "[311]\tvalidation_0-mlogloss:2.254522\n",
      "[312]\tvalidation_0-mlogloss:2.254484\n",
      "[313]\tvalidation_0-mlogloss:2.254419\n",
      "[314]\tvalidation_0-mlogloss:2.254405\n",
      "[315]\tvalidation_0-mlogloss:2.254353\n",
      "[316]\tvalidation_0-mlogloss:2.254350\n",
      "[317]\tvalidation_0-mlogloss:2.254345\n",
      "[318]\tvalidation_0-mlogloss:2.254302\n",
      "[319]\tvalidation_0-mlogloss:2.254301\n",
      "[320]\tvalidation_0-mlogloss:2.254282\n",
      "[321]\tvalidation_0-mlogloss:2.254281\n",
      "[322]\tvalidation_0-mlogloss:2.254278\n",
      "[323]\tvalidation_0-mlogloss:2.254270\n",
      "[324]\tvalidation_0-mlogloss:2.254279\n",
      "[325]\tvalidation_0-mlogloss:2.254266\n",
      "[326]\tvalidation_0-mlogloss:2.254242\n",
      "[327]\tvalidation_0-mlogloss:2.254234\n",
      "[328]\tvalidation_0-mlogloss:2.254215\n",
      "[329]\tvalidation_0-mlogloss:2.254179\n",
      "[330]\tvalidation_0-mlogloss:2.254171\n",
      "[331]\tvalidation_0-mlogloss:2.254160\n",
      "[332]\tvalidation_0-mlogloss:2.254185\n",
      "[333]\tvalidation_0-mlogloss:2.254158\n",
      "[334]\tvalidation_0-mlogloss:2.254128\n",
      "[335]\tvalidation_0-mlogloss:2.254119\n",
      "[336]\tvalidation_0-mlogloss:2.254120\n",
      "[337]\tvalidation_0-mlogloss:2.254115\n",
      "[338]\tvalidation_0-mlogloss:2.254122\n",
      "[339]\tvalidation_0-mlogloss:2.254131\n",
      "[340]\tvalidation_0-mlogloss:2.254128\n",
      "[341]\tvalidation_0-mlogloss:2.254124\n",
      "[342]\tvalidation_0-mlogloss:2.254127\n",
      "[343]\tvalidation_0-mlogloss:2.254091\n",
      "[344]\tvalidation_0-mlogloss:2.254089\n",
      "[345]\tvalidation_0-mlogloss:2.254089\n",
      "[346]\tvalidation_0-mlogloss:2.254076\n",
      "[347]\tvalidation_0-mlogloss:2.254090\n",
      "[348]\tvalidation_0-mlogloss:2.254102\n",
      "[349]\tvalidation_0-mlogloss:2.254094\n",
      "[350]\tvalidation_0-mlogloss:2.254086\n",
      "[351]\tvalidation_0-mlogloss:2.254107\n",
      "[352]\tvalidation_0-mlogloss:2.254094\n",
      "[353]\tvalidation_0-mlogloss:2.254060\n",
      "[354]\tvalidation_0-mlogloss:2.254045\n",
      "[355]\tvalidation_0-mlogloss:2.254043\n",
      "[356]\tvalidation_0-mlogloss:2.254046\n",
      "[357]\tvalidation_0-mlogloss:2.254041\n",
      "[358]\tvalidation_0-mlogloss:2.254033\n",
      "[359]\tvalidation_0-mlogloss:2.254012\n",
      "[360]\tvalidation_0-mlogloss:2.253994\n",
      "[361]\tvalidation_0-mlogloss:2.253986\n",
      "[362]\tvalidation_0-mlogloss:2.253990\n",
      "[363]\tvalidation_0-mlogloss:2.253967\n",
      "[364]\tvalidation_0-mlogloss:2.253940\n",
      "[365]\tvalidation_0-mlogloss:2.253923\n",
      "[366]\tvalidation_0-mlogloss:2.253899\n",
      "[367]\tvalidation_0-mlogloss:2.253912\n",
      "[368]\tvalidation_0-mlogloss:2.253904\n",
      "[369]\tvalidation_0-mlogloss:2.253911\n",
      "[370]\tvalidation_0-mlogloss:2.253906\n",
      "[371]\tvalidation_0-mlogloss:2.253921\n",
      "[372]\tvalidation_0-mlogloss:2.253926\n",
      "[373]\tvalidation_0-mlogloss:2.253919\n",
      "[374]\tvalidation_0-mlogloss:2.253908\n",
      "[375]\tvalidation_0-mlogloss:2.253928\n",
      "[376]\tvalidation_0-mlogloss:2.253905\n"
     ]
    },
    {
     "name": "stdout",
     "output_type": "stream",
     "text": [
      "Time elapsed: 7753.783476\n"
     ]
    },
    {
     "name": "stderr",
     "output_type": "stream",
     "text": [
      "Stopping. Best iteration:\n",
      "[366]\tvalidation_0-mlogloss:2.253899\n",
      "\n"
     ]
    }
   ],
   "source": [
    "import xgboost as xgb\n",
    "\n",
    "start_time = datetime.datetime.now()\n",
    "\n",
    "gbm = xgb.XGBClassifier(max_depth=10,\n",
    "                        n_estimators=1000,\n",
    "                        learning_rate=0.05,\n",
    "                        nthread=4,\n",
    "                        silent=False).fit(train_X, train_y,\n",
    "                                         eval_metric='mlogloss',\n",
    "                                         eval_set=evals,\n",
    "                                         early_stopping_rounds=10,\n",
    "                                         verbose=True\n",
    "                                         )\n",
    "\n",
    "duration = (datetime.datetime.now() - start_time).total_seconds()\n",
    "print('Time elapsed: {0}'.format(duration))"
   ]
  },
  {
   "cell_type": "code",
   "execution_count": 13,
   "metadata": {
    "collapsed": false
   },
   "outputs": [],
   "source": [
    "predictions = gbm.predict_proba(test_X)"
   ]
  },
  {
   "cell_type": "code",
   "execution_count": 14,
   "metadata": {
    "collapsed": false
   },
   "outputs": [],
   "source": [
    "predictions = np.split(predictions, 2, axis=1)[1].T"
   ]
  },
  {
   "cell_type": "code",
   "execution_count": 15,
   "metadata": {
    "collapsed": false
   },
   "outputs": [],
   "source": [
    "def save_predicts(name, predictions, index, columns, float_format='%.6f'):\n",
    "    df = pd.DataFrame(predictions, index=index, columns=columns)\n",
    "    df.index.name = 'Id'\n",
    "    df.to_csv('./output/{}.csv.gz'.format(name), compression='gzip', float_format=float_format)"
   ]
  },
  {
   "cell_type": "code",
   "execution_count": 16,
   "metadata": {
    "collapsed": false
   },
   "outputs": [],
   "source": [
    "save_predicts('xgb', predictions, data[feature_columns][train_data.shape[0]::].index, cat_conv.classes_)"
   ]
  },
  {
   "cell_type": "code",
   "execution_count": 20,
   "metadata": {
    "collapsed": true
   },
   "outputs": [],
   "source": [
    "from sklearn.externals import joblib\n",
    "\n",
    "def save_model(name, model):    \n",
    "    out = joblib.dump(model, 'models/{}.pkl'.format(name)) "
   ]
  },
  {
   "cell_type": "code",
   "execution_count": 21,
   "metadata": {
    "collapsed": false
   },
   "outputs": [],
   "source": [
    "save_model('xgb6', gbm)"
   ]
  },
  {
   "cell_type": "code",
   "execution_count": null,
   "metadata": {
    "collapsed": true
   },
   "outputs": [],
   "source": []
  }
 ],
 "metadata": {
  "kernelspec": {
   "display_name": "Python 2",
   "language": "python",
   "name": "python2"
  },
  "language_info": {
   "codemirror_mode": {
    "name": "ipython",
    "version": 2
   },
   "file_extension": ".py",
   "mimetype": "text/x-python",
   "name": "python",
   "nbconvert_exporter": "python",
   "pygments_lexer": "ipython2",
   "version": "2.7.11+"
  }
 },
 "nbformat": 4,
 "nbformat_minor": 0
}
