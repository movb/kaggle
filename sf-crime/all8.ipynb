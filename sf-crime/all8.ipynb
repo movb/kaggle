{
 "cells": [
  {
   "cell_type": "markdown",
   "metadata": {},
   "source": [
    "# Соревнование: San Francisco Crime Classification\n",
    "\n",
    "_Given time and location, you must predict the category of crime that occurred. Kaggle is hosting this competition for the machine learning community to use for fun and practice._\n",
    "\n",
    "https://www.kaggle.com/c/sf-crime"
   ]
  },
  {
   "cell_type": "markdown",
   "metadata": {},
   "source": [
    "##  Подготовка работы. Загрузка библиотек и настройка отображения\n",
    "Импорты и настроийки, которые необходимы для шаблона."
   ]
  },
  {
   "cell_type": "code",
   "execution_count": 1,
   "metadata": {
    "collapsed": false
   },
   "outputs": [],
   "source": [
    "import pandas as pd\n",
    "import numpy as np\n",
    "import matplotlib.pyplot as plt\n",
    "import time\n",
    "import datetime\n",
    "\n",
    "%matplotlib inline"
   ]
  },
  {
   "cell_type": "markdown",
   "metadata": {},
   "source": [
    "## Загрузка, очистка данных."
   ]
  },
  {
   "cell_type": "markdown",
   "metadata": {},
   "source": [
    "Загрузка тренировочных данных из csv:"
   ]
  },
  {
   "cell_type": "code",
   "execution_count": 2,
   "metadata": {
    "collapsed": false
   },
   "outputs": [],
   "source": [
    "train_data = pd.read_csv('data/train.csv')\n",
    "test_data = pd.read_csv('data/test.csv', index_col='Id')"
   ]
  },
  {
   "cell_type": "code",
   "execution_count": 3,
   "metadata": {
    "collapsed": false
   },
   "outputs": [],
   "source": [
    "feature_columns_to_use = ['Dates', 'DayOfWeek', 'PdDistrict', 'Address', 'X', 'Y']"
   ]
  },
  {
   "cell_type": "code",
   "execution_count": 4,
   "metadata": {
    "collapsed": false
   },
   "outputs": [],
   "source": [
    "data = train_data[feature_columns_to_use].append(test_data[feature_columns_to_use])"
   ]
  },
  {
   "cell_type": "code",
   "execution_count": 5,
   "metadata": {
    "collapsed": true
   },
   "outputs": [],
   "source": [
    "from collections import defaultdict\n",
    "from sklearn.decomposition import PCA\n",
    "\n",
    "def get_streets(street):\n",
    "    if street.find('/') != -1:\n",
    "        return map(str.strip, street.split('/'))\n",
    "    pos = street.find('Block of ')\n",
    "    if pos != -1:        \n",
    "        return [street[pos+9:]]    \n",
    "    return [street]\n",
    "\n",
    "def is_corner(addr):\n",
    "    streets = get_streets(addr)\n",
    "    if len(list(streets))>1:\n",
    "        return 1\n",
    "    return 0\n",
    "\n",
    "def addr_to_street(addr):\n",
    "    streets = get_streets(addr)\n",
    "    return '_'.join(streets)"
   ]
  },
  {
   "cell_type": "code",
   "execution_count": 6,
   "metadata": {
    "collapsed": false
   },
   "outputs": [],
   "source": [
    "data['Corner'] = data.Address.apply(is_corner)\n",
    "data['Street'] = data.Address.apply(addr_to_street)"
   ]
  },
  {
   "cell_type": "code",
   "execution_count": 7,
   "metadata": {
    "collapsed": false
   },
   "outputs": [],
   "source": [
    "nonnumeric_columns = ['PdDistrict','Address','Street']\n",
    "encoded_features = []\n",
    "\n",
    "from sklearn.preprocessing import LabelEncoder\n",
    "\n",
    "le = LabelEncoder()\n",
    "for feature in nonnumeric_columns:\n",
    "    feature_name = \"{}_Conv\".format(feature)\n",
    "    encoded_features.append(feature_name)\n",
    "    data[feature_name] = le.fit_transform(data[feature])"
   ]
  },
  {
   "cell_type": "code",
   "execution_count": 8,
   "metadata": {
    "collapsed": true
   },
   "outputs": [],
   "source": [
    "binarized_columns = ['DayOfWeek']\n",
    "binarized_features = []\n",
    "\n",
    "from sklearn.preprocessing import LabelBinarizer\n",
    "\n",
    "lb = LabelBinarizer()\n",
    "for feature in binarized_columns:\n",
    "    feature_data = lb.fit_transform(data[feature])\n",
    "    feature_labels = ['{0}_F{1}'.format(feature, x) for x in range(0,feature_data.shape[1])]\n",
    "    binarized_features += feature_labels\n",
    "    data = pd.concat([data,pd.DataFrame(feature_data, index=data.index, columns=feature_labels)], axis=1)"
   ]
  },
  {
   "cell_type": "code",
   "execution_count": 9,
   "metadata": {
    "collapsed": true
   },
   "outputs": [],
   "source": [
    "cat_conv = LabelEncoder()\n",
    "train_data['Category'] = cat_conv.fit_transform(train_data['Category'])"
   ]
  },
  {
   "cell_type": "code",
   "execution_count": 10,
   "metadata": {
    "collapsed": false
   },
   "outputs": [],
   "source": [
    "# need pip install holidays\n",
    "import holidays\n",
    "\n",
    "time_features = ['Min', 'Hour', 'Daytime', 'Day', 'Weekend', 'Month', 'Season', 'Year', 'WeekNumber', 'Holiday']\n",
    "\n",
    "def convert_time(data):\n",
    "    data['Min'] = data.Dates.apply(lambda x: x.minute)\n",
    "    data['Hour'] = data.Dates.apply(lambda x: x.hour)\n",
    "    data['Daytime'] = data.Dates.apply(lambda x: x.hour > 8 and x.hour <22 )\n",
    "    data['Day'] = data.Dates.apply(lambda x: x.day)\n",
    "    data['Weekend'] = data.DayOfWeek.apply(lambda x: x in ['Sunday', 'Saturday'])\n",
    "    data['Month'] = data.Dates.apply(lambda x: x.month)\n",
    "    data['Season'] = data.Dates.apply(lambda x: (x.month % 12) % 3)\n",
    "    data['Year'] = data.Dates.apply(lambda x: x.year)\n",
    "    data['WeekNumber'] = data.Dates.apply(lambda x: x.isocalendar()[1])    \n",
    "    us_holidays = holidays.UnitedStates()\n",
    "    data['Holiday'] = data.Dates.apply(lambda x: x in us_holidays)\n",
    "    return data\n",
    "\n",
    "data.Dates = pd.to_datetime(data.Dates)\n",
    "data = convert_time(data)"
   ]
  },
  {
   "cell_type": "markdown",
   "metadata": {},
   "source": [
    "## Построение модели"
   ]
  },
  {
   "cell_type": "code",
   "execution_count": 12,
   "metadata": {
    "collapsed": false
   },
   "outputs": [],
   "source": [
    "def prepare_data(data, train_data, feature_columns, eval_week=10):\n",
    "    if eval_week:\n",
    "        train_X = data[feature_columns][0:train_data.shape[0]][data[0:train_data.shape[0]].WeekNumber % eval_week != 0].as_matrix()\n",
    "        eval_X = data[feature_columns][0:train_data.shape[0]][data[0:train_data.shape[0]].WeekNumber % eval_week == 0].as_matrix()\n",
    "        train_y = train_data[data[0:train_data.shape[0]].WeekNumber % eval_week != 0]['Category']\n",
    "        eval_y = train_data[data[0:train_data.shape[0]].WeekNumber % eval_week == 0]['Category']\n",
    "    else:\n",
    "        train_X = data[feature_columns][0:train_data.shape[0]].as_matrix()\n",
    "        train_y = train_data['Category']\n",
    "        eval_X = None\n",
    "        eval_y = None\n",
    "    \n",
    "    test_X = data[feature_columns][train_data.shape[0]::].as_matrix()\n",
    "    \n",
    "    return train_X, eval_X, test_X, train_y, eval_y"
   ]
  },
  {
   "cell_type": "code",
   "execution_count": 13,
   "metadata": {
    "collapsed": false
   },
   "outputs": [],
   "source": [
    "import xgboost as xgb\n",
    "\n",
    "def run_xgb(train_X, eval_X, test_X, train_y, eval_y,\n",
    "            max_depth=10, n_estimators=1000, learning_rate=0.05,\n",
    "            early_stopping_rounds=10, max_delta_step=1, seed=42):\n",
    "    \n",
    "    start_time = datetime.datetime.now()\n",
    "\n",
    "    gbm = xgb.XGBClassifier(max_depth=max_depth,\n",
    "                            n_estimators=n_estimators,\n",
    "                            learning_rate=learning_rate,\n",
    "                            nthread=4,\n",
    "                            seed=seed,\n",
    "                            max_delta_step=max_delta_step,\n",
    "                            silent=False)\n",
    "    \n",
    "    if eval_X is None or eval_y is None:\n",
    "        gbm.fit(train_X, train_y,\n",
    "                eval_metric='mlogloss'\n",
    "               )\n",
    "    else:\n",
    "        gbm.fit(train_X, train_y,\n",
    "                eval_metric='mlogloss',\n",
    "                eval_set=[(eval_X, eval_y)],\n",
    "                early_stopping_rounds=early_stopping_rounds,\n",
    "                verbose=True\n",
    "               )\n",
    "\n",
    "    duration = (datetime.datetime.now() - start_time).total_seconds()\n",
    "    print('Time elapsed: {0}'.format(duration))\n",
    "    \n",
    "    return gbm"
   ]
  },
  {
   "cell_type": "code",
   "execution_count": 14,
   "metadata": {
    "collapsed": false
   },
   "outputs": [],
   "source": [
    "def get_predictions(model, test_X):\n",
    "    predictions = model.predict_proba(test_X)\n",
    "    return np.split(predictions, 2, axis=1)[1].T"
   ]
  },
  {
   "cell_type": "code",
   "execution_count": 15,
   "metadata": {
    "collapsed": false
   },
   "outputs": [],
   "source": [
    "def save_predicts(name, predictions, index, columns, float_format='%.6f'):\n",
    "    df = pd.DataFrame(predictions, index=index, columns=columns)\n",
    "    df.index.name = 'Id'\n",
    "    df.to_csv('./output/{}.csv.gz'.format(name), compression='gzip', float_format=float_format)"
   ]
  },
  {
   "cell_type": "code",
   "execution_count": 16,
   "metadata": {
    "collapsed": false
   },
   "outputs": [],
   "source": [
    "from sklearn.externals import joblib\n",
    "\n",
    "def save_model(name, model):    \n",
    "    out = joblib.dump(model, 'models/{}.pkl'.format(name)) "
   ]
  },
  {
   "cell_type": "code",
   "execution_count": null,
   "metadata": {
    "collapsed": false
   },
   "outputs": [],
   "source": [
    "feature_columns = ['X', 'Y', 'Corner'] + time_features + encoded_features + binarized_features + address_features\n",
    "\n",
    "train_X, eval_X, test_X, train_y, eval_y = prepare_data(data, train_data,\n",
    "                                                        feature_columns, eval_week=None)\n",
    "\n",
    "gbm = run_xgb(train_X, eval_X, test_X, train_y, eval_y,\n",
    "              max_depth=10,\n",
    "              n_estimators=440,\n",
    "              learning_rate=0.05,\n",
    "              max_delta_step=1,\n",
    "              seed=42)\n",
    "\n",
    "predictions = get_predictions(gbm, test_X)\n",
    "save_predicts('xgb2_4',\n",
    "              predictions,\n",
    "              data[feature_columns][train_data.shape[0]::].index,\n",
    "              cat_conv.classes_)\n",
    "save_model('xgb2_4', gbm)"
   ]
  },
  {
   "cell_type": "code",
   "execution_count": 18,
   "metadata": {
    "collapsed": false
   },
   "outputs": [
    {
     "data": {
      "text/plain": [
       "<matplotlib.axes._subplots.AxesSubplot at 0x7f883a4e03c8>"
      ]
     },
     "execution_count": 18,
     "metadata": {},
     "output_type": "execute_result"
    },
    {
     "data": {
      "image/png": "[encoded data removed]",
      "text/plain": [
       "<matplotlib.figure.Figure at 0x7f883d1336a0>"
      ]
     },
     "metadata": {},
     "output_type": "display_data"
    }
   ],
   "source": [
    "from xgboost import plot_importance\n",
    "plot_importance(gbm.booster())"
   ]
  },
  {
   "cell_type": "code",
   "execution_count": 20,
   "metadata": {
    "collapsed": true
   },
   "outputs": [],
   "source": [
    "importances = gbm.booster().get_fscore()"
   ]
  },
  {
   "cell_type": "code",
   "execution_count": 32,
   "metadata": {
    "collapsed": false
   },
   "outputs": [
    {
     "data": {
      "text/plain": [
       "[('f0', 536965),\n",
       " ('f1', 495749),\n",
       " ('f14', 434969),\n",
       " ('f6', 416983),\n",
       " ('f4', 382266),\n",
       " ('f3', 348521),\n",
       " ('f10', 327993),\n",
       " ('f11', 233562),\n",
       " ('f15', 226129),\n",
       " ('f8', 149445),\n",
       " ('f9', 92282),\n",
       " ('f13', 51785),\n",
       " ('f7', 38592),\n",
       " ('f16', 38498),\n",
       " ('f21', 37004),\n",
       " ('f22', 36636),\n",
       " ('f20', 36248),\n",
       " ('f17', 34849),\n",
       " ('f18', 31906),\n",
       " ('f19', 29333)]"
      ]
     },
     "execution_count": 32,
     "metadata": {},
     "output_type": "execute_result"
    }
   ],
   "source": [
    "tuples = [(k, importances[k]) for k in importances]\n",
    "tuples = sorted(tuples, key=lambda x: x[1])\n",
    "list(reversed(tuples[-20::]))"
   ]
  },
  {
   "cell_type": "code",
   "execution_count": 19,
   "metadata": {
    "collapsed": false
   },
   "outputs": [
    {
     "name": "stdout",
     "output_type": "stream",
     "text": [
      "['f0 = X', 'f1 = Y', 'f2 = Corner', 'f3 = Min', 'f4 = Hour', 'f5 = Daytime', 'f6 = Day', 'f7 = Weekend', 'f8 = Month', 'f9 = Season', 'f10 = Year', 'f11 = WeekNumber', 'f12 = Holiday', 'f13 = PdDistrict_Conv', 'f14 = Address_Conv', 'f15 = Street_Conv', 'f16 = DayOfWeek_F0', 'f17 = DayOfWeek_F1', 'f18 = DayOfWeek_F2', 'f19 = DayOfWeek_F3', 'f20 = DayOfWeek_F4', 'f21 = DayOfWeek_F5', 'f22 = DayOfWeek_F6', 'f23 = Address_F0', 'f24 = Address_F1', 'f25 = Address_F2', 'f26 = Address_F3', 'f27 = Address_F4', 'f28 = Address_F5', 'f29 = Address_F6', 'f30 = Address_F7', 'f31 = Address_F8', 'f32 = Address_F9', 'f33 = Address_F10', 'f34 = Address_F11', 'f35 = Address_F12', 'f36 = Address_F13', 'f37 = Address_F14', 'f38 = Address_F15', 'f39 = Address_F16', 'f40 = Address_F17', 'f41 = Address_F18', 'f42 = Address_F19', 'f43 = Address_F20', 'f44 = Address_F21', 'f45 = Address_F22', 'f46 = Address_F23', 'f47 = Address_F24', 'f48 = Address_F25', 'f49 = Address_F26', 'f50 = Address_F27', 'f51 = Address_F28', 'f52 = Address_F29', 'f53 = Address_F30', 'f54 = Address_F31', 'f55 = Address_F32', 'f56 = Address_F33', 'f57 = Address_F34', 'f58 = Address_F35', 'f59 = Address_F36', 'f60 = Address_F37', 'f61 = Address_F38', 'f62 = Address_F39', 'f63 = Address_F40', 'f64 = Address_F41', 'f65 = Address_F42', 'f66 = Address_F43', 'f67 = Address_F44', 'f68 = Address_F45', 'f69 = Address_F46', 'f70 = Address_F47', 'f71 = Address_F48', 'f72 = Address_F49']\n"
     ]
    }
   ],
   "source": [
    "print([\"f{0} = {1}\".format(i, x) for i, x in enumerate(feature_columns)])"
   ]
  },
  {
   "cell_type": "code",
   "execution_count": null,
   "metadata": {
    "collapsed": true
   },
   "outputs": [],
   "source": [
    "# фичи с адресами абсолютно бесполезны\n",
    "# 2.23512"
   ]
  }
 ],
 "metadata": {
  "kernelspec": {
   "display_name": "Python 3",
   "language": "python",
   "name": "python3"
  },
  "language_info": {
   "codemirror_mode": {
    "name": "ipython",
    "version": 3
   },
   "file_extension": ".py",
   "mimetype": "text/x-python",
   "name": "python",
   "nbconvert_exporter": "python",
   "pygments_lexer": "ipython3",
   "version": "3.5.1"
  }
 },
 "nbformat": 4,
 "nbformat_minor": 0
}
