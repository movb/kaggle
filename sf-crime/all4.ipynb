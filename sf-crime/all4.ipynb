{
 "cells": [
  {
   "cell_type": "markdown",
   "metadata": {},
   "source": [
    "# Соревнование: San Francisco Crime Classification\n",
    "\n",
    "_Given time and location, you must predict the category of crime that occurred. Kaggle is hosting this competition for the machine learning community to use for fun and practice._\n",
    "\n",
    "https://www.kaggle.com/c/sf-crime"
   ]
  },
  {
   "cell_type": "markdown",
   "metadata": {},
   "source": [
    "##  Подготовка работы. Загрузка библиотек и настройка отображения\n",
    "Импорты и настроийки, которые необходимы для шаблона."
   ]
  },
  {
   "cell_type": "code",
   "execution_count": 2,
   "metadata": {
    "collapsed": false
   },
   "outputs": [],
   "source": [
    "import pandas as pd\n",
    "import numpy as np\n",
    "import matplotlib.pyplot as plt\n",
    "import time\n",
    "import datetime\n",
    "\n",
    "%matplotlib inline"
   ]
  },
  {
   "cell_type": "markdown",
   "metadata": {},
   "source": [
    "## Загрузка, очистка данных."
   ]
  },
  {
   "cell_type": "markdown",
   "metadata": {},
   "source": [
    "Загрузка тренировочных данных из csv:"
   ]
  },
  {
   "cell_type": "code",
   "execution_count": 3,
   "metadata": {
    "collapsed": false
   },
   "outputs": [],
   "source": [
    "train_data = pd.read_csv('data/train.csv')\n",
    "test_data = pd.read_csv('data/test.csv', index_col='Id')"
   ]
  },
  {
   "cell_type": "code",
   "execution_count": 4,
   "metadata": {
    "collapsed": false
   },
   "outputs": [],
   "source": [
    "feature_columns_to_use = ['Dates', 'DayOfWeek', 'PdDistrict', 'Address', 'X', 'Y']"
   ]
  },
  {
   "cell_type": "code",
   "execution_count": 5,
   "metadata": {
    "collapsed": false
   },
   "outputs": [],
   "source": [
    "data = train_data[feature_columns_to_use].append(test_data[feature_columns_to_use])"
   ]
  },
  {
   "cell_type": "code",
   "execution_count": 6,
   "metadata": {
    "collapsed": true
   },
   "outputs": [],
   "source": [
    "from collections import defaultdict\n",
    "from sklearn.decomposition import PCA\n",
    "\n",
    "def get_streets(street):\n",
    "    if street.find('/') != -1:\n",
    "        return map(str.strip, street.split('/'))\n",
    "    pos = street.find('Block of ')\n",
    "    if pos != -1:        \n",
    "        return [street[pos+9:]]    \n",
    "    return [street]\n",
    "\n",
    "def is_corner(addr):\n",
    "    streets = get_streets(addr)\n",
    "    if len(list(streets))>1:\n",
    "        return 1\n",
    "    return 0\n",
    "\n",
    "def addr_to_street(addr):\n",
    "    streets = get_streets(addr)\n",
    "    return '_'.join(streets)"
   ]
  },
  {
   "cell_type": "code",
   "execution_count": 7,
   "metadata": {
    "collapsed": false
   },
   "outputs": [],
   "source": [
    "data['Corner'] = data.Address.apply(is_corner)\n",
    "data['Street'] = data.Address.apply(addr_to_street)"
   ]
  },
  {
   "cell_type": "code",
   "execution_count": 8,
   "metadata": {
    "collapsed": false
   },
   "outputs": [],
   "source": [
    "nonnumeric_columns = ['DayOfWeek','PdDistrict','Address','Street']\n",
    "\n",
    "from sklearn.preprocessing import LabelEncoder\n",
    "\n",
    "le = LabelEncoder()\n",
    "for feature in nonnumeric_columns:\n",
    "    data[\"{}_Conv\".format(feature)] = le.fit_transform(data[feature])"
   ]
  },
  {
   "cell_type": "code",
   "execution_count": 9,
   "metadata": {
    "collapsed": true
   },
   "outputs": [],
   "source": [
    "cat_conv = LabelEncoder()\n",
    "train_data['Category'] = cat_conv.fit_transform(train_data['Category'])"
   ]
  },
  {
   "cell_type": "code",
   "execution_count": 10,
   "metadata": {
    "collapsed": false
   },
   "outputs": [],
   "source": [
    "def convert_time(data):\n",
    "    data['Min'] = data.Dates.apply(lambda x: x.minute)\n",
    "    data['Hour'] = data.Dates.apply(lambda x: x.hour)\n",
    "    data['Day'] = data.Dates.apply(lambda x: x.day)\n",
    "    data['Month'] = data.Dates.apply(lambda x: x.month)\n",
    "    data['Year'] = data.Dates.apply(lambda x: x.year)\n",
    "    data['WeekNumber'] = data.Dates.apply(lambda x: x.isocalendar()[1])\n",
    "    return data\n",
    "\n",
    "data.Dates = pd.to_datetime(data.Dates)\n",
    "data = convert_time(data)"
   ]
  },
  {
   "cell_type": "code",
   "execution_count": 39,
   "metadata": {
    "collapsed": true
   },
   "outputs": [],
   "source": [
    "# построим сетку net_size*net_size и вернем индекс\n",
    "def net_cell(x, y, x_min, x_max, y_min, y_max, net_size):\n",
    "    x_c = int((x-x_min)/(x_max-x_min)*(net_size-1))\n",
    "    y_c = int((y-y_min)/(y_max-y_min)*(net_size-1))\n",
    "    return y_c*net_size+x_c"
   ]
  },
  {
   "cell_type": "code",
   "execution_count": 40,
   "metadata": {
    "collapsed": false
   },
   "outputs": [],
   "source": [
    "x_min, x_max, y_min, y_max = np.min(data.X), np.max(data.X), np.min(data.Y), np.max(data.Y)\n",
    "net_size = 75\n",
    "data['Cell'] = data[['X', 'Y']].apply(lambda x: net_cell(x[0], x[1], x_min, x_max, y_min, y_max, net_size),axis=1)"
   ]
  },
  {
   "cell_type": "markdown",
   "metadata": {},
   "source": [
    "## Построение модели"
   ]
  },
  {
   "cell_type": "code",
   "execution_count": 42,
   "metadata": {
    "collapsed": false
   },
   "outputs": [],
   "source": [
    "def prepare_data(data, train_data, feature_columns, eval_week=10):\n",
    "    train_X = data[feature_columns][0:train_data.shape[0]][data[0:train_data.shape[0]].WeekNumber % eval_week != 0].as_matrix()\n",
    "    eval_X = data[feature_columns][0:train_data.shape[0]][data[0:train_data.shape[0]].WeekNumber % eval_week == 0].as_matrix()\n",
    "\n",
    "    test_X = data[feature_columns][train_data.shape[0]::].as_matrix()\n",
    "\n",
    "    train_y = train_data[data[0:train_data.shape[0]].WeekNumber % eval_week != 0]['Category']\n",
    "    eval_y = train_data[data[0:train_data.shape[0]].WeekNumber % eval_week == 0]['Category']\n",
    "    \n",
    "    return train_X, eval_X, test_X, train_y, eval_y"
   ]
  },
  {
   "cell_type": "code",
   "execution_count": 43,
   "metadata": {
    "collapsed": false
   },
   "outputs": [],
   "source": [
    "import xgboost as xgb\n",
    "\n",
    "def run_xgb(train_X, eval_X, test_X, train_y, eval_y,\n",
    "            max_depth=10, n_estimators=1000, learning_rate=0.05,\n",
    "            early_stopping_rounds=10, seed=42):\n",
    "    \n",
    "    start_time = datetime.datetime.now()\n",
    "\n",
    "    gbm = xgb.XGBClassifier(max_depth=max_depth,\n",
    "                            n_estimators=n_estimators,\n",
    "                            learning_rate=learning_rate,\n",
    "                            nthread=4,\n",
    "                            seed=seed,\n",
    "                            silent=False).fit(train_X, train_y,\n",
    "                                             eval_metric='mlogloss',\n",
    "                                             eval_set=[(eval_X, eval_y)],\n",
    "                                             early_stopping_rounds=early_stopping_rounds,\n",
    "                                             verbose=True\n",
    "                                             )\n",
    "\n",
    "    duration = (datetime.datetime.now() - start_time).total_seconds()\n",
    "    print('Time elapsed: {0}'.format(duration))\n",
    "    \n",
    "    return gbm"
   ]
  },
  {
   "cell_type": "code",
   "execution_count": 44,
   "metadata": {
    "collapsed": false
   },
   "outputs": [],
   "source": [
    "def get_predictions(model, test_X):\n",
    "    predictions = model.predict_proba(test_X)\n",
    "    return np.split(predictions, 2, axis=1)[1].T"
   ]
  },
  {
   "cell_type": "code",
   "execution_count": 45,
   "metadata": {
    "collapsed": false
   },
   "outputs": [],
   "source": [
    "def save_predicts(name, predictions, index, columns, float_format='%.6f'):\n",
    "    df = pd.DataFrame(predictions, index=index, columns=columns)\n",
    "    df.index.name = 'Id'\n",
    "    df.to_csv('./output/{}.csv.gz'.format(name), compression='gzip', float_format=float_format)"
   ]
  },
  {
   "cell_type": "code",
   "execution_count": 46,
   "metadata": {
    "collapsed": false
   },
   "outputs": [],
   "source": [
    "from sklearn.externals import joblib\n",
    "\n",
    "def save_model(name, model):    \n",
    "    out = joblib.dump(model, 'models/{}.pkl'.format(name)) "
   ]
  },
  {
   "cell_type": "code",
   "execution_count": 47,
   "metadata": {
    "collapsed": false
   },
   "outputs": [
    {
     "name": "stdout",
     "output_type": "stream",
     "text": [
      "Time elapsed: 8613.106088\n"
     ]
    }
   ],
   "source": [
    "feature_columns = ['Min', 'Hour', 'Day', 'Month', 'Year',\n",
    "                   'DayOfWeek_Conv', 'PdDistrict_Conv', 'Address_Conv', 'X', 'Y',\n",
    "                   'Corner', 'Street_Conv', 'Cell']\n",
    "\n",
    "train_X, eval_X, test_X, train_y, eval_y = prepare_data(data, train_data,\n",
    "                                                        feature_columns, eval_week=7)\n",
    "\n",
    "gbm = run_xgb(train_X, eval_X, test_X, train_y, eval_y, max_depth=12,\n",
    "               n_estimators=1000, learning_rate=0.05, early_stopping_rounds=15,\n",
    "               seed=15)\n",
    "\n",
    "predictions = get_predictions(gbm, test_X)\n",
    "save_predicts('xgb2_2',\n",
    "              predictions,\n",
    "              data[feature_columns][train_data.shape[0]::].index,\n",
    "              cat_conv.classes_)\n",
    "save_model('xgb2_2', gbm)"
   ]
  },
  {
   "cell_type": "code",
   "execution_count": 50,
   "metadata": {
    "collapsed": false
   },
   "outputs": [
    {
     "name": "stdout",
     "output_type": "stream",
     "text": [
      "Evals count: 243\n"
     ]
    },
    {
     "data": {
      "text/plain": [
       "{'validation_0': {'mlogloss': ['3.52750',\n",
       "   '3.42607',\n",
       "   '3.34182',\n",
       "   '3.26991',\n",
       "   '3.20700',\n",
       "   '3.15136',\n",
       "   '3.10142',\n",
       "   '3.05601',\n",
       "   '3.01448',\n",
       "   '2.97634',\n",
       "   '2.94098',\n",
       "   '2.90798',\n",
       "   '2.87736',\n",
       "   '2.84901',\n",
       "   '2.82236',\n",
       "   '2.79727',\n",
       "   '2.77364',\n",
       "   '2.75139',\n",
       "   '2.73052',\n",
       "   '2.71072',\n",
       "   '2.69200',\n",
       "   '2.67425',\n",
       "   '2.65741',\n",
       "   '2.64137',\n",
       "   '2.62619',\n",
       "   '2.61173',\n",
       "   '2.59787',\n",
       "   '2.58466',\n",
       "   '2.57205',\n",
       "   '2.56009',\n",
       "   '2.54858',\n",
       "   '2.53750',\n",
       "   '2.52696',\n",
       "   '2.51681',\n",
       "   '2.50712',\n",
       "   '2.49788',\n",
       "   '2.48900',\n",
       "   '2.48046',\n",
       "   '2.47226',\n",
       "   '2.46444',\n",
       "   '2.45688',\n",
       "   '2.44968',\n",
       "   '2.44274',\n",
       "   '2.43609',\n",
       "   '2.42955',\n",
       "   '2.42338',\n",
       "   '2.41747',\n",
       "   '2.41171',\n",
       "   '2.40616',\n",
       "   '2.40095',\n",
       "   '2.39577',\n",
       "   '2.39085',\n",
       "   '2.38599',\n",
       "   '2.38137',\n",
       "   '2.37695',\n",
       "   '2.37261',\n",
       "   '2.36843',\n",
       "   '2.36447',\n",
       "   '2.36055',\n",
       "   '2.35675',\n",
       "   '2.35302',\n",
       "   '2.34957',\n",
       "   '2.34623',\n",
       "   '2.34282',\n",
       "   '2.33958',\n",
       "   '2.33655',\n",
       "   '2.33351',\n",
       "   '2.33063',\n",
       "   '2.32792',\n",
       "   '2.32529',\n",
       "   '2.32277',\n",
       "   '2.32024',\n",
       "   '2.31785',\n",
       "   '2.31557',\n",
       "   '2.31332',\n",
       "   '2.31113',\n",
       "   '2.30900',\n",
       "   '2.30698',\n",
       "   '2.30495',\n",
       "   '2.30308',\n",
       "   '2.30129',\n",
       "   '2.29950',\n",
       "   '2.29784',\n",
       "   '2.29616',\n",
       "   '2.29452',\n",
       "   '2.29294',\n",
       "   '2.29142',\n",
       "   '2.29000',\n",
       "   '2.28867',\n",
       "   '2.28728',\n",
       "   '2.28590',\n",
       "   '2.28464',\n",
       "   '2.28334',\n",
       "   '2.28212',\n",
       "   '2.28100',\n",
       "   '2.27980',\n",
       "   '2.27873',\n",
       "   '2.27754',\n",
       "   '2.27647',\n",
       "   '2.27548',\n",
       "   '2.27452',\n",
       "   '2.27357',\n",
       "   '2.27249',\n",
       "   '2.27160',\n",
       "   '2.27075',\n",
       "   '2.26998',\n",
       "   '2.26909',\n",
       "   '2.26828',\n",
       "   '2.26748',\n",
       "   '2.26676',\n",
       "   '2.26606',\n",
       "   '2.26535',\n",
       "   '2.26460',\n",
       "   '2.26394',\n",
       "   '2.26334',\n",
       "   '2.26269',\n",
       "   '2.26206',\n",
       "   '2.26146',\n",
       "   '2.26091',\n",
       "   '2.26035',\n",
       "   '2.25984',\n",
       "   '2.25931',\n",
       "   '2.25875',\n",
       "   '2.25824',\n",
       "   '2.25771',\n",
       "   '2.25727',\n",
       "   '2.25682',\n",
       "   '2.25637',\n",
       "   '2.25588',\n",
       "   '2.25544',\n",
       "   '2.25503',\n",
       "   '2.25458',\n",
       "   '2.25424',\n",
       "   '2.25384',\n",
       "   '2.25348',\n",
       "   '2.25312',\n",
       "   '2.25282',\n",
       "   '2.25251',\n",
       "   '2.25224',\n",
       "   '2.25192',\n",
       "   '2.25170',\n",
       "   '2.25146',\n",
       "   '2.25116',\n",
       "   '2.25092',\n",
       "   '2.25063',\n",
       "   '2.25045',\n",
       "   '2.25011',\n",
       "   '2.24989',\n",
       "   '2.24963',\n",
       "   '2.24939',\n",
       "   '2.24915',\n",
       "   '2.24895',\n",
       "   '2.24875',\n",
       "   '2.24855',\n",
       "   '2.24835',\n",
       "   '2.24811',\n",
       "   '2.24797',\n",
       "   '2.24780',\n",
       "   '2.24762',\n",
       "   '2.24742',\n",
       "   '2.24728',\n",
       "   '2.24713',\n",
       "   '2.24701',\n",
       "   '2.24693',\n",
       "   '2.24678',\n",
       "   '2.24666',\n",
       "   '2.24655',\n",
       "   '2.24644',\n",
       "   '2.24628',\n",
       "   '2.24618',\n",
       "   '2.24610',\n",
       "   '2.24597',\n",
       "   '2.24587',\n",
       "   '2.24577',\n",
       "   '2.24566',\n",
       "   '2.24550',\n",
       "   '2.24538',\n",
       "   '2.24531',\n",
       "   '2.24521',\n",
       "   '2.24519',\n",
       "   '2.24510',\n",
       "   '2.24502',\n",
       "   '2.24494',\n",
       "   '2.24492',\n",
       "   '2.24486',\n",
       "   '2.24480',\n",
       "   '2.24474',\n",
       "   '2.24466',\n",
       "   '2.24462',\n",
       "   '2.24459',\n",
       "   '2.24448',\n",
       "   '2.24444',\n",
       "   '2.24440',\n",
       "   '2.24435',\n",
       "   '2.24425',\n",
       "   '2.24423',\n",
       "   '2.24424',\n",
       "   '2.24421',\n",
       "   '2.24417',\n",
       "   '2.24415',\n",
       "   '2.24409',\n",
       "   '2.24406',\n",
       "   '2.24403',\n",
       "   '2.24403',\n",
       "   '2.24405',\n",
       "   '2.24401',\n",
       "   '2.24400',\n",
       "   '2.24395',\n",
       "   '2.24396',\n",
       "   '2.24392',\n",
       "   '2.24392',\n",
       "   '2.24390',\n",
       "   '2.24391',\n",
       "   '2.24391',\n",
       "   '2.24394',\n",
       "   '2.24393',\n",
       "   '2.24394',\n",
       "   '2.24392',\n",
       "   '2.24392',\n",
       "   '2.24388',\n",
       "   '2.24383',\n",
       "   '2.24387',\n",
       "   '2.24389',\n",
       "   '2.24391',\n",
       "   '2.24389',\n",
       "   '2.24384',\n",
       "   '2.24385',\n",
       "   '2.24383',\n",
       "   '2.24385',\n",
       "   '2.24384',\n",
       "   '2.24385',\n",
       "   '2.24389',\n",
       "   '2.24387',\n",
       "   '2.24389',\n",
       "   '2.24392',\n",
       "   '2.24390',\n",
       "   '2.24388',\n",
       "   '2.24390',\n",
       "   '2.24392',\n",
       "   '2.24390',\n",
       "   '2.24393',\n",
       "   '2.24394',\n",
       "   '2.24394']}}"
      ]
     },
     "execution_count": 50,
     "metadata": {},
     "output_type": "execute_result"
    }
   ],
   "source": [
    "print('Evals count: {}'.format(len(gbm.evals_result_['validation_0']['mlogloss'])))\n",
    "gbm.evals_result_"
   ]
  },
  {
   "cell_type": "code",
   "execution_count": 52,
   "metadata": {
    "collapsed": false
   },
   "outputs": [
    {
     "data": {
      "text/plain": [
       "<matplotlib.axes._subplots.AxesSubplot at 0x7f231f2f3860>"
      ]
     },
     "execution_count": 52,
     "metadata": {},
     "output_type": "execute_result"
    },
    {
     "data": {
      "image/png": "[encoded data removed]",
      "text/plain": [
       "<matplotlib.figure.Figure at 0x7f231f2c5898>"
      ]
     },
     "metadata": {},
     "output_type": "display_data"
    }
   ],
   "source": [
    "from xgboost import plot_importance\n",
    "plot_importance(gbm.booster())"
   ]
  },
  {
   "cell_type": "code",
   "execution_count": 53,
   "metadata": {
    "collapsed": false
   },
   "outputs": [
    {
     "name": "stdout",
     "output_type": "stream",
     "text": [
      "['f0 = Min', 'f1 = Hour', 'f2 = Day', 'f3 = Month', 'f4 = Year', 'f5 = DayOfWeek_Conv', 'f6 = PdDistrict_Conv', 'f7 = Address_Conv', 'f8 = X', 'f9 = Y', 'f10 = Corner', 'f11 = Street_Conv', 'f12 = Cell']\n"
     ]
    }
   ],
   "source": [
    "print([\"f{0} = {1}\".format(i, x) for i, x in enumerate(feature_columns)])"
   ]
  }
 ],
 "metadata": {
  "kernelspec": {
   "display_name": "Python 3",
   "language": "python",
   "name": "python3"
  },
  "language_info": {
   "codemirror_mode": {
    "name": "ipython",
    "version": 3
   },
   "file_extension": ".py",
   "mimetype": "text/x-python",
   "name": "python",
   "nbconvert_exporter": "python",
   "pygments_lexer": "ipython3",
   "version": "3.5.1"
  }
 },
 "nbformat": 4,
 "nbformat_minor": 0
}
